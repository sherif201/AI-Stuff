{
  "nbformat": 4,
  "nbformat_minor": 0,
  "metadata": {
    "colab": {
      "name": "Basic operations on the Normal Distribution in Python.ipynb",
      "provenance": [],
      "collapsed_sections": [],
      "machine_shape": "hm",
      "include_colab_link": true
    },
    "kernelspec": {
      "name": "python3",
      "display_name": "Python 3"
    }
  },
  "cells": [
    {
      "cell_type": "markdown",
      "metadata": {
        "id": "view-in-github",
        "colab_type": "text"
      },
      "source": [
        "<a href=\"https://colab.research.google.com/github/sherif201/test-repo/blob/master/Basic_operations_on_the_Normal_Distribution_in_Python.ipynb\" target=\"_parent\"><img src=\"https://colab.research.google.com/assets/colab-badge.svg\" alt=\"Open In Colab\"/></a>"
      ]
    },
    {
      "cell_type": "markdown",
      "metadata": {
        "id": "8CR_C7y0Q19o",
        "colab_type": "text"
      },
      "source": [
        "#Basic operations on the Normal Distribution in Python"
      ]
    },
    {
      "cell_type": "markdown",
      "metadata": {
        "id": "Ynni8vf9RI4W",
        "colab_type": "text"
      },
      "source": [
        "The normal curve is one of the most important distributions in statistics and probability. It has wide applications also in machine learning. In this post, we will come across some basic operations that are frequently needed on the normal curve, and how to perform them in Python, using libraries like numpy and scipy. This includes: sampling, visualization, probability density calculations,..etc. Although such operations might seem simple, but they could be troublesome in some cases, so I want to collect them here with some practices to apply them in Python."
      ]
    },
    {
      "cell_type": "code",
      "metadata": {
        "id": "bDGXMDrYILcK",
        "colab_type": "code",
        "cellView": "form",
        "colab": {}
      },
      "source": [
        "#@title Imports (Double click to see code)\n",
        "import pandas as pd\n",
        "import numpy as np\n",
        "import matplotlib.pyplot as plt\n",
        "from math import erf, sqrt\n",
        "from scipy.stats import norm\n",
        "from scipy.stats import multivariate_normal"
      ],
      "execution_count": 0,
      "outputs": []
    },
    {
      "cell_type": "markdown",
      "metadata": {
        "id": "N6Jjz8xwkkeS",
        "colab_type": "text"
      },
      "source": [
        "# Formula"
      ]
    },
    {
      "cell_type": "markdown",
      "metadata": {
        "id": "gkIX3j-hlXNV",
        "colab_type": "text"
      },
      "source": [
        "\n",
        "\n",
        "For $n$ - dimensions random variable $X$:\n",
        "\n",
        "__Multi-variate normal__\n",
        "\n",
        "$$P(X) = P(X; \\mu, \\Sigma)= \\frac{1}{(2\\pi)^{n/2} |\\Sigma |^{1/2}} exp (-\\frac{1}{2}(X-\\mu)^T\\Sigma^{-1}(X-\\mu))$$\n",
        "\n",
        "This is denoted by $N(\\mu, \\Sigma)$\n",
        "\n",
        "$$X = [x_1, x_2,....x_{n}]$$\n",
        "\n",
        "$$\\mu = [\\mu_1, \\mu_2,....\\mu_{n}]$$\n",
        "\n",
        "\n",
        "\n",
        "$$ \\Sigma = \n",
        "\\begin{bmatrix}\n",
        "\\sigma_{11}^2 & \\sigma_{12}^2 & ... & \\sigma_{1n}^2\\\\\n",
        "\\sigma_{21}^2 & \\sigma_{22}^2 & ... & \\sigma_{2n}^2\\\\\n",
        "...\\\\\n",
        "\\sigma_{n1}^2 & \\sigma_{n2}^2 & ... & \\sigma_{nn}^2\\\\\n",
        "\\end{bmatrix}\n",
        "$$\n",
        "\n",
        "__n=1 Normal Distribution__ \n",
        "$$P(x) = P(x; \\mu, \\sigma)= \\frac{1}{\\sqrt{2\\pi \\sigma}} exp (-\\frac{(x-\\mu)^2}{2\\sigma^2})$$\n",
        "\n",
        "__n=2 Bivariate normal distribution__\n",
        "\n",
        "For 2D:\n",
        "$$X = [x_1, x_2]$$\n",
        "\n",
        "$$\\mu_i = [\\mu_{x_1}, \\mu_{x_2}]$$\n",
        "\n",
        "\n",
        "$$ \\Sigma = \n",
        "\\begin{bmatrix}\n",
        "\\sigma_{xx}^2 & \\sigma_{xy}^2\\\\\n",
        "\\sigma_{yx}^2 & \\sigma_{yy}^2\\\\\n",
        "\\end{bmatrix}\n",
        "$$\n",
        "\n",
        "\n",
        "If $\\mu=0$ and $\\Sigma=I$, we have a __standard normal distribution__\n"
      ]
    },
    {
      "cell_type": "markdown",
      "metadata": {
        "id": "KERbaXbjSp-w",
        "colab_type": "text"
      },
      "source": [
        "# Why it's so important?\n",
        "\n",
        "We can use the normal distribution to describe many physical and natural phenomena. \n",
        "\n",
        "By __\"describe\"__, we mean that the normal distrbution is a good way to model the distribution of the event we want to describe.\n",
        "\n",
        "By __\"model\"__, we mean to be able to simulate the event or phenomena using that model. In other words, if we generate samples from this model, it will be very similar to the real samples we encounter in the real world.\n",
        "\n",
        "By __\"distribution\"__, we mean to count the events, cluster them in \"bins\" (ranges of values), and count the values in each bin, and normalize the counts. If the bins ranges are so narrow, we get continous random variables, while if they are so wide, we get discrete random variable. The values of the bins are the sample space of the random variable or event. This can be done using histograms. \n",
        "\n",
        "If the counts are normalized, then the total counts (summation for discrete and integration for continous) will sum to 1. This is called a __probability density function or pdf__.\n"
      ]
    },
    {
      "cell_type": "markdown",
      "metadata": {
        "id": "BFkZ0_GGUiZW",
        "colab_type": "text"
      },
      "source": [
        "# Example on Titanic dataset\n",
        "\n",
        "To better understand the concept let's have an example on the Titanic dataset on Kaggle.\n",
        "\n",
        "First let's load the dataset\n",
        "\n",
        "[Source in kaggle](https://www.kaggle.com/c/titanic/data)\n",
        "\n",
        "[How to use the kaggle API and get usr and key](https://github.com/Kaggle/kaggle-api)"
      ]
    },
    {
      "cell_type": "code",
      "metadata": {
        "id": "RwcDZ-GWUueu",
        "colab_type": "code",
        "cellView": "form",
        "colab": {}
      },
      "source": [
        "#@title First let's download the dataset\n",
        "user = \"\" #@param {type:\"string\"}\n",
        "key = \"\" #@param {type:\"string\"}\n",
        "from getpass import getpass\n",
        "import os\n",
        "user = ''\n",
        "key = ''\n",
        "\n",
        "if '.kaggle' not in os.listdir('/root'):\n",
        "    !mkdir ~/.kaggle\n",
        "!touch /root/.kaggle/kaggle.json\n",
        "!chmod 666 /root/.kaggle/kaggle.json\n",
        "with open('/root/.kaggle/kaggle.json', 'w') as f:\n",
        "    f.write('{\"username\":\"%s\",\"key\":\"%s\"}' % (user, key))\n",
        "!chmod 600 /root/.kaggle/kaggle.json\n",
        "!kaggle competitions download -c titanic"
      ],
      "execution_count": 0,
      "outputs": []
    },
    {
      "cell_type": "code",
      "metadata": {
        "id": "xD7cE90AUxmM",
        "colab_type": "code",
        "outputId": "9664da90-746f-48d5-a712-ae24ae6f3d4b",
        "colab": {
          "base_uri": "https://localhost:8080/",
          "height": 204
        }
      },
      "source": [
        "train_df = pd.read_csv('train.csv')\n",
        "train_df.head()"
      ],
      "execution_count": 0,
      "outputs": [
        {
          "output_type": "execute_result",
          "data": {
            "text/html": [
              "<div>\n",
              "<style scoped>\n",
              "    .dataframe tbody tr th:only-of-type {\n",
              "        vertical-align: middle;\n",
              "    }\n",
              "\n",
              "    .dataframe tbody tr th {\n",
              "        vertical-align: top;\n",
              "    }\n",
              "\n",
              "    .dataframe thead th {\n",
              "        text-align: right;\n",
              "    }\n",
              "</style>\n",
              "<table border=\"1\" class=\"dataframe\">\n",
              "  <thead>\n",
              "    <tr style=\"text-align: right;\">\n",
              "      <th></th>\n",
              "      <th>PassengerId</th>\n",
              "      <th>Survived</th>\n",
              "      <th>Pclass</th>\n",
              "      <th>Name</th>\n",
              "      <th>Sex</th>\n",
              "      <th>Age</th>\n",
              "      <th>SibSp</th>\n",
              "      <th>Parch</th>\n",
              "      <th>Ticket</th>\n",
              "      <th>Fare</th>\n",
              "      <th>Cabin</th>\n",
              "      <th>Embarked</th>\n",
              "    </tr>\n",
              "  </thead>\n",
              "  <tbody>\n",
              "    <tr>\n",
              "      <th>0</th>\n",
              "      <td>1</td>\n",
              "      <td>0</td>\n",
              "      <td>3</td>\n",
              "      <td>Braund, Mr. Owen Harris</td>\n",
              "      <td>male</td>\n",
              "      <td>22.0</td>\n",
              "      <td>1</td>\n",
              "      <td>0</td>\n",
              "      <td>A/5 21171</td>\n",
              "      <td>7.2500</td>\n",
              "      <td>NaN</td>\n",
              "      <td>S</td>\n",
              "    </tr>\n",
              "    <tr>\n",
              "      <th>1</th>\n",
              "      <td>2</td>\n",
              "      <td>1</td>\n",
              "      <td>1</td>\n",
              "      <td>Cumings, Mrs. John Bradley (Florence Briggs Th...</td>\n",
              "      <td>female</td>\n",
              "      <td>38.0</td>\n",
              "      <td>1</td>\n",
              "      <td>0</td>\n",
              "      <td>PC 17599</td>\n",
              "      <td>71.2833</td>\n",
              "      <td>C85</td>\n",
              "      <td>C</td>\n",
              "    </tr>\n",
              "    <tr>\n",
              "      <th>2</th>\n",
              "      <td>3</td>\n",
              "      <td>1</td>\n",
              "      <td>3</td>\n",
              "      <td>Heikkinen, Miss. Laina</td>\n",
              "      <td>female</td>\n",
              "      <td>26.0</td>\n",
              "      <td>0</td>\n",
              "      <td>0</td>\n",
              "      <td>STON/O2. 3101282</td>\n",
              "      <td>7.9250</td>\n",
              "      <td>NaN</td>\n",
              "      <td>S</td>\n",
              "    </tr>\n",
              "    <tr>\n",
              "      <th>3</th>\n",
              "      <td>4</td>\n",
              "      <td>1</td>\n",
              "      <td>1</td>\n",
              "      <td>Futrelle, Mrs. Jacques Heath (Lily May Peel)</td>\n",
              "      <td>female</td>\n",
              "      <td>35.0</td>\n",
              "      <td>1</td>\n",
              "      <td>0</td>\n",
              "      <td>113803</td>\n",
              "      <td>53.1000</td>\n",
              "      <td>C123</td>\n",
              "      <td>S</td>\n",
              "    </tr>\n",
              "    <tr>\n",
              "      <th>4</th>\n",
              "      <td>5</td>\n",
              "      <td>0</td>\n",
              "      <td>3</td>\n",
              "      <td>Allen, Mr. William Henry</td>\n",
              "      <td>male</td>\n",
              "      <td>35.0</td>\n",
              "      <td>0</td>\n",
              "      <td>0</td>\n",
              "      <td>373450</td>\n",
              "      <td>8.0500</td>\n",
              "      <td>NaN</td>\n",
              "      <td>S</td>\n",
              "    </tr>\n",
              "  </tbody>\n",
              "</table>\n",
              "</div>"
            ],
            "text/plain": [
              "   PassengerId  Survived  Pclass  ...     Fare Cabin  Embarked\n",
              "0            1         0       3  ...   7.2500   NaN         S\n",
              "1            2         1       1  ...  71.2833   C85         C\n",
              "2            3         1       3  ...   7.9250   NaN         S\n",
              "3            4         1       1  ...  53.1000  C123         S\n",
              "4            5         0       3  ...   8.0500   NaN         S\n",
              "\n",
              "[5 rows x 12 columns]"
            ]
          },
          "metadata": {
            "tags": []
          },
          "execution_count": 15
        }
      ]
    },
    {
      "cell_type": "markdown",
      "metadata": {
        "id": "6xH5SbayU0fA",
        "colab_type": "text"
      },
      "source": [
        "Now, let's pick a variable, and plot it's histogram:"
      ]
    },
    {
      "cell_type": "code",
      "metadata": {
        "id": "AeL_UV0iU01a",
        "colab_type": "code",
        "outputId": "f552c21f-fd2e-4a33-ab7f-862321c227ed",
        "colab": {
          "base_uri": "https://localhost:8080/",
          "height": 282
        }
      },
      "source": [
        "var = 'Age'\n",
        "X = train_df[var]\n",
        "X.hist()"
      ],
      "execution_count": 0,
      "outputs": [
        {
          "output_type": "execute_result",
          "data": {
            "text/plain": [
              "<matplotlib.axes._subplots.AxesSubplot at 0x7ffaee304278>"
            ]
          },
          "metadata": {
            "tags": []
          },
          "execution_count": 16
        },
        {
          "output_type": "display_data",
          "data": {
            "image/png": "[encoded data removed]",
            "text/plain": [
              "<Figure size 432x288 with 1 Axes>"
            ]
          },
          "metadata": {
            "tags": []
          }
        }
      ]
    },
    {
      "cell_type": "markdown",
      "metadata": {
        "id": "XOAOP5O6U3w-",
        "colab_type": "text"
      },
      "source": [
        "If we want to model its distribution (meaning to have a function that maps the probability that the data variable could take a certain value), we have two ways:\n",
        "\n",
        "- __Non-parametric__: as you can see, we can plot the histogram of data, and divide it into bins (which are a design choice, more bins means higher model resolution, but more sensitivity and variability). The probability of values falling inside a certain bin is simply $\\frac{k}{N}$, where $k$ are the counts of values in that bin, and $N$ is the whole data size.\n",
        "\n",
        "- __Parametric__: here if we smooth the hitogram, it's clear that it follows a Gaussian/normal distrbution. In other cases, it could follow any known or unknown distribution/density function, or even a mixture of known ones. If we put the assumption that the distribution follows some __known__ function, then we are doing parameteric estimation, and we are only left with the task to estimate the model parameters, mean $\\mu$ and standard deviation $\\sigma$ (or variance $\\sigma^2$) in case of normal."
      ]
    },
    {
      "cell_type": "markdown",
      "metadata": {
        "id": "sLGHRIBNXPUm",
        "colab_type": "text"
      },
      "source": [
        "Having the model (parametric or non-parametric), we can use it to perform some operations:\n",
        "\n",
        "- __Sampling__ since the model describes the phenomenon, we can use it to generate \"synthetic\" samples of the event or RV.\n",
        "\n",
        "- __Probability estimation__ of the RV takes certain value or a value within some range\n",
        "\n",
        "- __Plotting__ simple plot the distribution, to see if it matches our observations\n",
        "\n",
        "Let's see how to perform those basic operations in Python"
      ]
    },
    {
      "cell_type": "markdown",
      "metadata": {
        "id": "ZpUzloXvqVqH",
        "colab_type": "text"
      },
      "source": [
        "# Sampling"
      ]
    },
    {
      "cell_type": "markdown",
      "metadata": {
        "id": "V5m43prcd9dj",
        "colab_type": "text"
      },
      "source": [
        "__Generative process__\n",
        "\n",
        "With the model of the underlying process or variable at hand (parametric or non-parametric), we can have a __generative__ function that simulates the variable or the process. In other words, we can __sample__ from this model distribution to obtain artificial data points, that are never measured, but are likely to be obtained with certain probability range."
      ]
    },
    {
      "cell_type": "markdown",
      "metadata": {
        "id": "aK4mZoALapsB",
        "colab_type": "text"
      },
      "source": [
        "Numpy provides a simple interface for that"
      ]
    },
    {
      "cell_type": "markdown",
      "metadata": {
        "id": "P3zVdU81qXVF",
        "colab_type": "text"
      },
      "source": [
        "\n",
        "To sample 1D:"
      ]
    },
    {
      "cell_type": "code",
      "metadata": {
        "id": "Ql6fvD18qZYw",
        "colab_type": "code",
        "outputId": "a0e1a941-43b1-404a-f492-d5d7444ed97c",
        "colab": {
          "base_uri": "https://localhost:8080/",
          "height": 51
        }
      },
      "source": [
        "m = 10\n",
        "mu, sigma = 0.25, 0.1 # mean and standard deviation\n",
        "x = np.random.normal(mu, sigma, 10)\n",
        "x"
      ],
      "execution_count": 0,
      "outputs": [
        {
          "output_type": "execute_result",
          "data": {
            "text/plain": [
              "array([0.15020596, 0.33384624, 0.16038929, 0.1369385 , 0.33297416,\n",
              "       0.26137196, 0.32717266, 0.12828049, 0.26883467, 0.1622976 ])"
            ]
          },
          "metadata": {
            "tags": []
          },
          "execution_count": 17
        }
      ]
    },
    {
      "cell_type": "markdown",
      "metadata": {
        "id": "EqNIwRRnxDzT",
        "colab_type": "text"
      },
      "source": [
        "To sample n-D"
      ]
    },
    {
      "cell_type": "code",
      "metadata": {
        "id": "EccjKvGZxFmi",
        "colab_type": "code",
        "outputId": "28f1f172-991d-4037-90bd-361bd0ec0e4c",
        "colab": {
          "base_uri": "https://localhost:8080/",
          "height": 204
        }
      },
      "source": [
        "m = 10\n",
        "mean = np.array([0, 0])\n",
        "cov = np.array([[2, -1], [-1, 1]])\n",
        "x = np.random.multivariate_normal(mean, cov, m)\n",
        "print(x)\n",
        "print(x.shape)"
      ],
      "execution_count": 0,
      "outputs": [
        {
          "output_type": "stream",
          "text": [
            "[[ 0.12994971 -0.38296241]\n",
            " [-1.04783248 -0.11978351]\n",
            " [-0.20828526  1.18576041]\n",
            " [ 0.01808587  2.00271582]\n",
            " [ 1.15476108 -0.96127772]\n",
            " [ 0.58786906 -0.12508821]\n",
            " [ 1.72968973 -0.84961663]\n",
            " [ 1.03742775  0.06530661]\n",
            " [ 0.13852126  0.43352697]\n",
            " [ 0.9198747  -0.79360047]]\n",
            "(10, 2)\n"
          ],
          "name": "stdout"
        }
      ]
    },
    {
      "cell_type": "markdown",
      "metadata": {
        "id": "lCWzc_nKxYeq",
        "colab_type": "text"
      },
      "source": [
        "For both cases:\n",
        "\n",
        "As you can see above, $m$ samples are generated. They have the given $\\mu$ and $\\sigma$ for 1D or covariance $\\Sigma$ in n-D. The shape of $\\mu$ is always $n \\times 1$. The shape of $\\Sigma$ is always $n \\times n$.\n",
        "\n",
        "In general, we have more than one sample. We denote that as __dataset__:\n",
        "$$X = [(X^1)^T, (X^2)^T,..., (X^m)^T]$$\n",
        "\n",
        "The shape of the returned RV is $m \\times n$, $X \\in {\\Bbb R}^{m \\times n}$\n"
      ]
    },
    {
      "cell_type": "markdown",
      "metadata": {
        "id": "MDpqWrtjcVeY",
        "colab_type": "text"
      },
      "source": [
        "__But how we get $\\mu$ and $\\Sigma$ in the first place?__\n",
        "\n",
        "The answer is that we estimate them from __sample__ data.\n",
        "\n",
        "The process is that we assume the best model to describe some dataset $X$ is the normal curve $N(\\mu, \\Sigma)$, then we __fit__ the distribution parameters to the data."
      ]
    },
    {
      "cell_type": "markdown",
      "metadata": {
        "id": "IiEsMWOUc8zx",
        "colab_type": "text"
      },
      "source": [
        "# How to fit a model to data?\n",
        "\n",
        "Now, under the _parametric_ estimation framework, suppose we are given a list of data points as above, and we want to obtain the parameters of the assumed model. This can be done under the __Maximum Likelihood Estimation__ __(MLE)__ framework\n",
        "\n",
        "The maximum likelihood is defined as:\n",
        "$$L(X, \\Theta) = max_{\\Theta} P(X; \\Theta) = max_{\\Theta} L(\\Theta)$$\n",
        "Where $X$ are the observed data, and $\\Theta$ are the model parameters. $L(\\Theta)$ is the likelihood of the parameters, which we want to maximize. IT also corresponds to maximizing the data $X$ probability. Hence, the paramers can be obtained as:\n",
        "\n",
        "$$\\Theta^* = argmax_{\\Theta} L(\\Theta)$$\n",
        "\n",
        "What this basically says, is that the optimal model parameters $\\Theta$ are obtained with an optimzation problem to maximize the __Likelihood__ of the underlying data.  You can think of this as a _search_ problem for the best $\\Theta^*$, in the space of all possible $\\Theta$s, such that it maximizes the probability of obtaining the data points observed at hand.\n",
        "\n",
        "Under the model assumption of Gaussian/Normal, this becomes:\n",
        "$$\\Theta = [\\mu, \\sigma]$$\n",
        "\n",
        "And the optimization problem becomes:\n",
        "\n",
        "$$\\mu^*, \\sigma^* = argmax_{\\mu,\\Sigma} P(X; \\mu, \\sigma) = argmax_{\\mu,\\sigma} N(\\mu,\\sigma|X)$$\n",
        "\n"
      ]
    },
    {
      "cell_type": "markdown",
      "metadata": {
        "id": "OT9OeXJNdBLA",
        "colab_type": "text"
      },
      "source": [
        "# Unbiased MLE estimates of $\\mu$ and $\\sigma$\n",
        "\n",
        "Keep in mind that, $\\Theta^*$ is only an estimate of the true population parameters. In other words, we did not see all the $X$s in the world to validate our assumption or to obtain the most accurate estimate of the model parameters.\n",
        "\n",
        "It is said that our estimate is __unbiased__ if its expected value with inifinte data points is the same as the true parameters $\\Theta_0$\n",
        "\n",
        "$$lim_{m->\\infty} E[\\Theta^*] = \\Theta_0$$\n",
        "\n",
        "\n",
        "Where $m$ is the total number of samples."
      ]
    },
    {
      "cell_type": "markdown",
      "metadata": {
        "id": "qwSTS_qodFsR",
        "colab_type": "text"
      },
      "source": [
        "## MLE of Normal distribution\n",
        "\n",
        "We will derive the formula following MLE for $\\mu$ only, and leave $\\Sigma$ for the reader, since we will need the one for $\\mu$ later when we talk about the probabilistic interpretation of regression:\n",
        "\n",
        "$$X^i = [1, x_1, x_2,..., x_n]$$\n",
        "$$\\theta = [\\theta_0, \\theta_1, \\theta_2, ...,\\theta_n]$$\n",
        "\n",
        "Where $n$ is the dimension of the input data or the number of features.\n",
        "\n",
        "For an entire data set, we have:\n",
        "$$X = [(X^1)^T, (X^2)^T,..., (X^m)^T]$$\n",
        "$X \\in {\\Bbb R}^{m \\times n}$\n",
        "\n",
        "$$L(\\mu) = \\prod_{i=1}^{m} P(X^i;\\mu,\\Sigma)=\\prod_{i=1}^{m} \\frac{1}{(2\\pi)^{n/2} |\\Sigma |^{1/2}} exp (-\\frac{1}{2}(X^i-\\mu)^T\\Sigma^{-1}(X^i-\\mu))$$\n",
        "\n",
        "For simmplicty, we take the log. Since the log is monotonic, maximizing the log is the same as maximizing the original function:\n",
        "\n",
        "$$l(\\mu) = log L(\\mu) = -m.\\frac{n}{2}log 2\\pi-m.\\frac{1}{2}log \\Sigma -\\frac{1}{2} \\sum_{i=1}^m (X^i-\\mu)^T\\Sigma^{-1}(X^i-\\mu) $$\n",
        "\n",
        "$$l(\\mu) = C -\\frac{1}{2} \\sum_{i=1}^m (X^i-\\mu)^T\\Sigma^{-1}(X^i-\\mu)$$\n",
        "\n",
        "To maximize $l(\\mu)$, we set:\n",
        "\n",
        "$$\\nabla_\\mu(l(\\mu)) = 0$$\n",
        "\n",
        "Using the following property, if $A^T=A$:\n",
        "\n",
        "$$\\nabla_\\theta f(x;\\theta)^T A f(x;\\theta) = 2A\\nabla_\\theta f(x;\\theta)$$\n",
        "\n",
        "To understand this, consider the term $\\alpha^T A \\alpha$ similar to $A\\alpha^2$ if $\\alpha$ was 1D.\n",
        "\n",
        "Mapping $A->\\Sigma^{-1}$ and $f(x;\\theta)->(X^i-\\mu)$ so we have:\n",
        "\n",
        "$$\\nabla_\\mu(l(\\mu)) = \\Sigma^{-1} \\sum_{i=1}^m (X^i-\\mu) = 0$$\n",
        "\n",
        "So we get:\n",
        "\n",
        "$$ \\sum_{i=1}^m X^i = \\sum_{i=1}^m \\mu = m \\mu $$ \n",
        "\n",
        "Therefore:\n",
        "$$ \\mu = \\frac{1}{m} \\sum_{i=1}^m X^i$$ \n",
        "\n",
        "For the 1D normal curve, the unbiased MLE estimates are:\n",
        "\n",
        "$$\\mu = \\frac{1}{m}\\sum_{i=1}^m x^i$$\n",
        "$$\\sigma^2 = \\frac{1}{m-1}\\sum_{i=1}^m (x^i-\\mu)^2$$\n",
        "\n",
        "Where $m$ is the total number of samples.\n",
        "\n",
        "For the n-D normal curve, the unbiased MLE estimates are:\n",
        "\n",
        "$$\\mu = \\frac{1}{m}\\sum_{i=1}^m X^i$$\n",
        "$$\\Sigma = \\frac{1}{m-1}\\sum_{i=1}^m (X^i-\\mu)^T(X^i-\\mu)$$"
      ]
    },
    {
      "cell_type": "markdown",
      "metadata": {
        "id": "_J4tZ_P4dTCC",
        "colab_type": "text"
      },
      "source": [
        "Let's do that for the above Titanice Age data:"
      ]
    },
    {
      "cell_type": "code",
      "metadata": {
        "id": "EqeJWY-fdWLK",
        "colab_type": "code",
        "outputId": "fe74d51f-e78f-43df-f5d6-8c54d0f91fd1",
        "colab": {
          "base_uri": "https://localhost:8080/",
          "height": 350
        }
      },
      "source": [
        "\n",
        "count, bins, ignored = plt.hist(np.array(X), 50, density=True)\n",
        "mu = X.mean()\n",
        "sigma = X.std()\n",
        "plt.plot(bins, 1/(sigma * np.sqrt(2 * np.pi)) * np.exp( - (bins - mu)**2 / (2 * sigma**2) ), linewidth=2, color='r')"
      ],
      "execution_count": 0,
      "outputs": [
        {
          "output_type": "stream",
          "text": [
            "/usr/local/lib/python3.6/dist-packages/numpy/lib/histograms.py:839: RuntimeWarning: invalid value encountered in greater_equal\n",
            "  keep = (tmp_a >= first_edge)\n",
            "/usr/local/lib/python3.6/dist-packages/numpy/lib/histograms.py:840: RuntimeWarning: invalid value encountered in less_equal\n",
            "  keep &= (tmp_a <= last_edge)\n"
          ],
          "name": "stderr"
        },
        {
          "output_type": "execute_result",
          "data": {
            "text/plain": [
              "[<matplotlib.lines.Line2D at 0x7ffaee2f2630>]"
            ]
          },
          "metadata": {
            "tags": []
          },
          "execution_count": 19
        },
        {
          "output_type": "display_data",
          "data": {
            "image/png": "[encoded data removed]",
            "text/plain": [
              "<Figure size 432x288 with 1 Axes>"
            ]
          },
          "metadata": {
            "tags": []
          }
        }
      ]
    },
    {
      "cell_type": "markdown",
      "metadata": {
        "id": "yd12nZZEW2UX",
        "colab_type": "text"
      },
      "source": [
        "\n",
        "# Probability of an event\n",
        "According to frequentist statistics, the normalized counts can be used to approximate the probability that the random variable (RV) (the phenomena or event), will take the value in the range of that bin. \n",
        "\n",
        "For continous RVs, this corresponds to the probability the random variable will take the value in a very narrow range, such that it can be single value at the limit. This corresponds to the count of how many times we count the RV takes that value from the sample we collect. Since this is very rare, this probability (count) will almost be 0.\n",
        "\n"
      ]
    },
    {
      "cell_type": "code",
      "metadata": {
        "id": "OxU2hb2Adn4T",
        "colab_type": "code",
        "outputId": "e403cb30-c864-4945-d3f6-b9aefb6cfd7c",
        "colab": {
          "base_uri": "https://localhost:8080/",
          "height": 350
        }
      },
      "source": [
        "\n",
        "count, bins, ignored = plt.hist(np.array(X), 1000, density=True)\n",
        "mu = X.mean()\n",
        "sigma = X.std()\n",
        "plt.plot(bins, 1/(sigma * np.sqrt(2 * np.pi)) * np.exp( - (bins - mu)**2 / (2 * sigma**2) ), linewidth=2, color='r')"
      ],
      "execution_count": 0,
      "outputs": [
        {
          "output_type": "stream",
          "text": [
            "/usr/local/lib/python3.6/dist-packages/numpy/lib/histograms.py:839: RuntimeWarning: invalid value encountered in greater_equal\n",
            "  keep = (tmp_a >= first_edge)\n",
            "/usr/local/lib/python3.6/dist-packages/numpy/lib/histograms.py:840: RuntimeWarning: invalid value encountered in less_equal\n",
            "  keep &= (tmp_a <= last_edge)\n"
          ],
          "name": "stderr"
        },
        {
          "output_type": "execute_result",
          "data": {
            "text/plain": [
              "[<matplotlib.lines.Line2D at 0x7ffaee1c9630>]"
            ]
          },
          "metadata": {
            "tags": []
          },
          "execution_count": 20
        },
        {
          "output_type": "display_data",
          "data": {
            "image/png": "[encoded data removed]",
            "text/plain": [
              "<Figure size 432x288 with 1 Axes>"
            ]
          },
          "metadata": {
            "tags": []
          }
        }
      ]
    },
    {
      "cell_type": "markdown",
      "metadata": {
        "id": "RdzgY1WeeKqv",
        "colab_type": "text"
      },
      "source": [
        "As you can see, for many values on the x-axis (sample space), we don't have any counts, so their probability is 0. "
      ]
    },
    {
      "cell_type": "code",
      "metadata": {
        "id": "mU74UiZfduNd",
        "colab_type": "code",
        "outputId": "17a3681f-3f13-4182-d102-20ed8a4edb69",
        "colab": {
          "base_uri": "https://localhost:8080/",
          "height": 350
        }
      },
      "source": [
        "\n",
        "count, bins, ignored = plt.hist(np.array(X), 10, density=True)\n",
        "mu = X.mean()\n",
        "sigma = X.std()\n",
        "plt.plot(bins, 1/(sigma * np.sqrt(2 * np.pi)) * np.exp( - (bins - mu)**2 / (2 * sigma**2) ), linewidth=2, color='r')"
      ],
      "execution_count": 0,
      "outputs": [
        {
          "output_type": "stream",
          "text": [
            "/usr/local/lib/python3.6/dist-packages/numpy/lib/histograms.py:839: RuntimeWarning: invalid value encountered in greater_equal\n",
            "  keep = (tmp_a >= first_edge)\n",
            "/usr/local/lib/python3.6/dist-packages/numpy/lib/histograms.py:840: RuntimeWarning: invalid value encountered in less_equal\n",
            "  keep &= (tmp_a <= last_edge)\n"
          ],
          "name": "stderr"
        },
        {
          "output_type": "execute_result",
          "data": {
            "text/plain": [
              "[<matplotlib.lines.Line2D at 0x7ffaee2f2da0>]"
            ]
          },
          "metadata": {
            "tags": []
          },
          "execution_count": 21
        },
        {
          "output_type": "display_data",
          "data": {
            "image/png": "[encoded data removed]",
            "text/plain": [
              "<Figure size 432x288 with 1 Axes>"
            ]
          },
          "metadata": {
            "tags": []
          }
        }
      ]
    },
    {
      "cell_type": "markdown",
      "metadata": {
        "id": "TPtTlNUIdxP_",
        "colab_type": "text"
      },
      "source": [
        "For discrete RVs, the bin width is larger, hence the probability to be in that value range is higher.\n",
        "For that reason, we rarely want to calculate the probability a RV takes single value for continous cases, instead it will be a range over many values, which corresponds to a wider bin. In this case, we have to accumulate many small values from small bins to find the count in the bigger bin range. This summation (integration for continous RVs) is given by the __commulation density function (CDF)__ "
      ]
    },
    {
      "cell_type": "markdown",
      "metadata": {
        "id": "WlbNz5aoqt8K",
        "colab_type": "text"
      },
      "source": [
        "# Calculate formula (PDF)"
      ]
    },
    {
      "cell_type": "markdown",
      "metadata": {
        "id": "lawZph6_yCyo",
        "colab_type": "text"
      },
      "source": [
        "The formula of normal distribution gives the probability that the R.V. $X$ takes certain __exact__ value; $P(X=X_0; \\mu, \\Sigma)$. This is called __probability density function (pdf)__\n",
        "\n",
        "In case of continous RV $X$, this probability translates to an __area under the curve__ (CDF). The area in this case will be very small, and hence the probability is almost zero.\n",
        "\n",
        "\n",
        "This value can be obtained in several ways:"
      ]
    },
    {
      "cell_type": "markdown",
      "metadata": {
        "id": "safdGQIOzJcT",
        "colab_type": "text"
      },
      "source": [
        "## Using the formula"
      ]
    },
    {
      "cell_type": "code",
      "metadata": {
        "id": "ittPEu8Jq003",
        "colab_type": "code",
        "outputId": "256199f4-dae0-4e6b-9ca8-0cd1764c1b93",
        "colab": {
          "base_uri": "https://localhost:8080/",
          "height": 707
        }
      },
      "source": [
        "m = 100\n",
        "x = np.linspace(-1, 1, m)\n",
        "mu, sigma = 0.25, 0.1\n",
        "p_x = 1/(sigma * np.sqrt(2 * np.pi)) * np.exp( - (x - mu)**2 / (2 * sigma**2))\n",
        "print(p_x)\n",
        "plt.plot(x,p_x)"
      ],
      "execution_count": 0,
      "outputs": [
        {
          "output_type": "stream",
          "text": [
            "[4.69519536e-34 5.74770746e-33 6.75477905e-32 7.62084525e-31\n",
            " 8.25411740e-30 8.58249666e-29 8.56706670e-28 8.20967862e-27\n",
            " 7.55258580e-26 6.67022805e-25 5.65537230e-24 4.60317220e-23\n",
            " 3.59690316e-22 2.69821016e-21 1.94311410e-20 1.34337214e-19\n",
            " 8.91599622e-19 5.68092318e-18 3.47490919e-17 2.04053246e-16\n",
            " 1.15032102e-15 6.22544085e-15 3.23442189e-14 1.61323906e-13\n",
            " 7.72460518e-13 3.55082572e-12 1.56696006e-11 6.63837833e-11\n",
            " 2.69986206e-10 1.05413603e-09 3.95118385e-09 1.42178302e-08\n",
            " 4.91150865e-08 1.62881592e-07 5.18566672e-07 1.58493954e-06\n",
            " 4.65046417e-06 1.30995208e-05 3.54233815e-05 9.19602468e-05\n",
            " 2.29184764e-04 5.48336128e-04 1.25945740e-03 2.77712615e-03\n",
            " 5.87872623e-03 1.19466562e-02 2.33069262e-02 4.36514967e-02\n",
            " 7.84853826e-02 1.35473367e-01 2.24488745e-01 3.57117162e-01\n",
            " 5.45383979e-01 7.99594012e-01 1.12541369e+00 1.52065382e+00\n",
            " 1.97253185e+00 2.45636666e+00 2.93655316e+00 3.37021839e+00\n",
            " 3.71324602e+00 3.92757880e+00 3.98815100e+00 3.88770929e+00\n",
            " 3.63824110e+00 3.26862179e+00 2.81911875e+00 2.33419736e+00\n",
            " 1.85539883e+00 1.41583449e+00 1.03720165e+00 7.29439732e-01\n",
            " 4.92482876e-01 3.19204023e-01 1.98619133e-01 1.18644964e-01\n",
            " 6.80382354e-02 3.74569383e-02 1.97964362e-02 1.00442440e-02\n",
            " 4.89241174e-03 2.28772726e-03 1.02697767e-03 4.42581497e-04\n",
            " 1.83105340e-04 7.27250907e-05 2.77295636e-05 1.01502632e-05\n",
            " 3.56686829e-06 1.20329565e-06 3.89702439e-07 1.21162829e-07\n",
            " 3.61643936e-08 1.03625938e-08 2.85056707e-09 7.52782574e-10\n",
            " 1.90846128e-10 4.64486027e-11 1.08526915e-11 2.43432053e-12]\n"
          ],
          "name": "stdout"
        },
        {
          "output_type": "execute_result",
          "data": {
            "text/plain": [
              "[<matplotlib.lines.Line2D at 0x7ffaed6695c0>]"
            ]
          },
          "metadata": {
            "tags": []
          },
          "execution_count": 22
        },
        {
          "output_type": "display_data",
          "data": {
            "image/png": "[encoded data removed]",
            "text/plain": [
              "<Figure size 432x288 with 1 Axes>"
            ]
          },
          "metadata": {
            "tags": []
          }
        }
      ]
    },
    {
      "cell_type": "markdown",
      "metadata": {
        "id": "VF2tD5bOzKSF",
        "colab_type": "text"
      },
      "source": [
        "## Using scipy\n",
        "The scipy library provides means to calculate the equation directly as follows:"
      ]
    },
    {
      "cell_type": "code",
      "metadata": {
        "id": "EkQAfdrGzRE6",
        "colab_type": "code",
        "outputId": "f818926d-0902-40f1-b764-fa2ec52fe499",
        "colab": {
          "base_uri": "https://localhost:8080/",
          "height": 707
        }
      },
      "source": [
        "\n",
        "m = 100\n",
        "x = np.linspace(-1, 1, m)\n",
        "mu, sigma = 0.25, 0.1\n",
        "p_x = norm.pdf(x,mu,sigma)\n",
        "print(p_x)\n",
        "plt.plot(x,p_x) "
      ],
      "execution_count": 0,
      "outputs": [
        {
          "output_type": "stream",
          "text": [
            "[4.69519536e-34 5.74770746e-33 6.75477905e-32 7.62084525e-31\n",
            " 8.25411740e-30 8.58249666e-29 8.56706670e-28 8.20967862e-27\n",
            " 7.55258580e-26 6.67022805e-25 5.65537230e-24 4.60317220e-23\n",
            " 3.59690316e-22 2.69821016e-21 1.94311410e-20 1.34337214e-19\n",
            " 8.91599622e-19 5.68092318e-18 3.47490919e-17 2.04053246e-16\n",
            " 1.15032102e-15 6.22544085e-15 3.23442189e-14 1.61323906e-13\n",
            " 7.72460518e-13 3.55082572e-12 1.56696006e-11 6.63837833e-11\n",
            " 2.69986206e-10 1.05413603e-09 3.95118385e-09 1.42178302e-08\n",
            " 4.91150865e-08 1.62881592e-07 5.18566672e-07 1.58493954e-06\n",
            " 4.65046417e-06 1.30995208e-05 3.54233815e-05 9.19602468e-05\n",
            " 2.29184764e-04 5.48336128e-04 1.25945740e-03 2.77712615e-03\n",
            " 5.87872623e-03 1.19466562e-02 2.33069262e-02 4.36514967e-02\n",
            " 7.84853826e-02 1.35473367e-01 2.24488745e-01 3.57117162e-01\n",
            " 5.45383979e-01 7.99594012e-01 1.12541369e+00 1.52065382e+00\n",
            " 1.97253185e+00 2.45636666e+00 2.93655316e+00 3.37021839e+00\n",
            " 3.71324602e+00 3.92757880e+00 3.98815100e+00 3.88770929e+00\n",
            " 3.63824110e+00 3.26862179e+00 2.81911875e+00 2.33419736e+00\n",
            " 1.85539883e+00 1.41583449e+00 1.03720165e+00 7.29439732e-01\n",
            " 4.92482876e-01 3.19204023e-01 1.98619133e-01 1.18644964e-01\n",
            " 6.80382354e-02 3.74569383e-02 1.97964362e-02 1.00442440e-02\n",
            " 4.89241174e-03 2.28772726e-03 1.02697767e-03 4.42581497e-04\n",
            " 1.83105340e-04 7.27250907e-05 2.77295636e-05 1.01502632e-05\n",
            " 3.56686829e-06 1.20329565e-06 3.89702439e-07 1.21162829e-07\n",
            " 3.61643936e-08 1.03625938e-08 2.85056707e-09 7.52782574e-10\n",
            " 1.90846128e-10 4.64486027e-11 1.08526915e-11 2.43432053e-12]\n"
          ],
          "name": "stdout"
        },
        {
          "output_type": "execute_result",
          "data": {
            "text/plain": [
              "[<matplotlib.lines.Line2D at 0x7ffaed5e2080>]"
            ]
          },
          "metadata": {
            "tags": []
          },
          "execution_count": 23
        },
        {
          "output_type": "display_data",
          "data": {
            "image/png": "[encoded data removed]",
            "text/plain": [
              "<Figure size 432x288 with 1 Axes>"
            ]
          },
          "metadata": {
            "tags": []
          }
        }
      ]
    },
    {
      "cell_type": "markdown",
      "metadata": {
        "id": "PJrPixgY2val",
        "colab_type": "text"
      },
      "source": [
        "It can also be done using the multivariate function as follows (n=1):\n"
      ]
    },
    {
      "cell_type": "code",
      "metadata": {
        "id": "yVLDLnkc20Qp",
        "colab_type": "code",
        "outputId": "422f3fae-5ceb-4793-da4a-43b476b1e839",
        "colab": {
          "base_uri": "https://localhost:8080/",
          "height": 707
        }
      },
      "source": [
        "\n",
        "m = 100\n",
        "x = np.linspace(-1, 1, m)\n",
        "mu, sigma = 0.25, 0.1\n",
        "p_x = multivariate_normal.pdf(x,mu,sigma)\n",
        "print(p_x)\n",
        "plt.plot(x,p_x) "
      ],
      "execution_count": 0,
      "outputs": [
        {
          "output_type": "stream",
          "text": [
            "[5.10486693e-04 6.55795640e-04 8.39035186e-04 1.06910257e-03\n",
            " 1.35670718e-03 1.71466950e-03 2.15825261e-03 2.70552577e-03\n",
            " 3.37775874e-03 4.19984369e-03 5.20074044e-03 6.41393835e-03\n",
            " 7.87792667e-03 9.63666222e-03 1.17400214e-02 1.42442207e-02\n",
            " 1.72121866e-02 2.07138559e-02 2.48263804e-02 2.96342138e-02\n",
            " 3.52290527e-02 4.17096044e-02 4.91811553e-02 5.77549127e-02\n",
            " 6.75470969e-02 7.86777615e-02 9.12693278e-02 1.05444822e-01\n",
            " 1.21325815e-01 1.39030065e-01 1.58668890e-01 1.80344288e-01\n",
            " 2.04145848e-01 2.30147499e-01 2.58404171e-01 2.88948423e-01\n",
            " 3.21787144e-01 3.56898399e-01 3.94228539e-01 4.33689664e-01\n",
            " 4.75157549e-01 5.18470135e-01 5.63426679e-01 6.09787644e-01\n",
            " 6.57275407e-01 7.05575831e-01 7.54340733e-01 8.03191258e-01\n",
            " 8.51722141e-01 8.99506802e-01 9.46103211e-01 9.91060419e-01\n",
            " 1.03392562e+00 1.07425161e+00 1.11160445e+00 1.14557122e+00\n",
            " 1.17576753e+00 1.20184477e+00 1.22349682e+00 1.24046600e+00\n",
            " 1.25254816e+00 1.25959680e+00 1.26152604e+00 1.25831229e+00\n",
            " 1.24999480e+00 1.23667484e+00 1.21851364e+00 1.19572915e+00\n",
            " 1.16859167e+00 1.13741855e+00 1.10256799e+00 1.06443219e+00\n",
            " 1.02343007e+00 9.79999592e-01 9.34590081e-01 8.87654564e-01\n",
            " 8.39642404e-01 7.90992356e-01 7.42126194e-01 6.93443026e-01\n",
            " 6.45314404e-01 5.98080281e-01 5.52045862e-01 5.07479361e-01\n",
            " 4.64610650e-01 4.23630760e-01 3.84692184e-01 3.47909902e-01\n",
            " 3.13363036e-01 2.81097054e-01 2.51126400e-01 2.23437467e-01\n",
            " 1.97991788e-01 1.74729368e-01 1.53572051e-01 1.34426848e-01\n",
            " 1.17189147e-01 1.01745761e-01 8.79777407e-02 7.57629428e-02]\n"
          ],
          "name": "stdout"
        },
        {
          "output_type": "execute_result",
          "data": {
            "text/plain": [
              "[<matplotlib.lines.Line2D at 0x7ffaed54d5c0>]"
            ]
          },
          "metadata": {
            "tags": []
          },
          "execution_count": 24
        },
        {
          "output_type": "display_data",
          "data": {
            "image/png": "[encoded data removed]",
            "text/plain": [
              "<Figure size 432x288 with 1 Axes>"
            ]
          },
          "metadata": {
            "tags": []
          }
        }
      ]
    },
    {
      "cell_type": "markdown",
      "metadata": {
        "id": "yYFKQ8P13AkB",
        "colab_type": "text"
      },
      "source": [
        "__Why different form norm.pdf?__\n",
        "\n",
        "In case of multivariate, we pass the covariance, which is the variance in 1D, which maps to $\\sigma^2$:"
      ]
    },
    {
      "cell_type": "code",
      "metadata": {
        "id": "X9keyDmK2uxy",
        "colab_type": "code",
        "outputId": "c2b4d430-4cbb-476d-b43e-27ecc1a56125",
        "colab": {
          "base_uri": "https://localhost:8080/",
          "height": 707
        }
      },
      "source": [
        "\n",
        "m = 100\n",
        "x = np.linspace(-1, 1, m)\n",
        "mu, sigma = 0.25, 0.1**2\n",
        "p_x = multivariate_normal.pdf(x,mu,sigma)\n",
        "print(p_x)\n",
        "plt.plot(x,p_x) "
      ],
      "execution_count": 0,
      "outputs": [
        {
          "output_type": "stream",
          "text": [
            "[4.69519536e-34 5.74770746e-33 6.75477905e-32 7.62084525e-31\n",
            " 8.25411740e-30 8.58249666e-29 8.56706670e-28 8.20967862e-27\n",
            " 7.55258580e-26 6.67022805e-25 5.65537230e-24 4.60317220e-23\n",
            " 3.59690316e-22 2.69821016e-21 1.94311410e-20 1.34337214e-19\n",
            " 8.91599622e-19 5.68092318e-18 3.47490919e-17 2.04053246e-16\n",
            " 1.15032102e-15 6.22544085e-15 3.23442189e-14 1.61323906e-13\n",
            " 7.72460518e-13 3.55082572e-12 1.56696006e-11 6.63837833e-11\n",
            " 2.69986206e-10 1.05413603e-09 3.95118385e-09 1.42178302e-08\n",
            " 4.91150865e-08 1.62881592e-07 5.18566672e-07 1.58493954e-06\n",
            " 4.65046417e-06 1.30995208e-05 3.54233815e-05 9.19602468e-05\n",
            " 2.29184764e-04 5.48336128e-04 1.25945740e-03 2.77712615e-03\n",
            " 5.87872623e-03 1.19466562e-02 2.33069262e-02 4.36514967e-02\n",
            " 7.84853826e-02 1.35473367e-01 2.24488745e-01 3.57117162e-01\n",
            " 5.45383979e-01 7.99594012e-01 1.12541369e+00 1.52065382e+00\n",
            " 1.97253185e+00 2.45636666e+00 2.93655316e+00 3.37021839e+00\n",
            " 3.71324602e+00 3.92757880e+00 3.98815100e+00 3.88770929e+00\n",
            " 3.63824110e+00 3.26862179e+00 2.81911875e+00 2.33419736e+00\n",
            " 1.85539883e+00 1.41583449e+00 1.03720165e+00 7.29439732e-01\n",
            " 4.92482876e-01 3.19204023e-01 1.98619133e-01 1.18644964e-01\n",
            " 6.80382354e-02 3.74569383e-02 1.97964362e-02 1.00442440e-02\n",
            " 4.89241174e-03 2.28772726e-03 1.02697767e-03 4.42581497e-04\n",
            " 1.83105340e-04 7.27250907e-05 2.77295636e-05 1.01502632e-05\n",
            " 3.56686829e-06 1.20329565e-06 3.89702439e-07 1.21162829e-07\n",
            " 3.61643936e-08 1.03625938e-08 2.85056707e-09 7.52782574e-10\n",
            " 1.90846128e-10 4.64486027e-11 1.08526915e-11 2.43432053e-12]\n"
          ],
          "name": "stdout"
        },
        {
          "output_type": "execute_result",
          "data": {
            "text/plain": [
              "[<matplotlib.lines.Line2D at 0x7ffaed531cf8>]"
            ]
          },
          "metadata": {
            "tags": []
          },
          "execution_count": 25
        },
        {
          "output_type": "display_data",
          "data": {
            "image/png": "[encoded data removed]",
            "text/plain": [
              "<Figure size 432x288 with 1 Axes>"
            ]
          },
          "metadata": {
            "tags": []
          }
        }
      ]
    },
    {
      "cell_type": "markdown",
      "metadata": {
        "id": "HG3tMQ_SyuxF",
        "colab_type": "text"
      },
      "source": [
        "__How it looks for 2D?__"
      ]
    },
    {
      "cell_type": "markdown",
      "metadata": {
        "id": "LP4oG8Zr0c3O",
        "colab_type": "text"
      },
      "source": [
        "In case of 2D RV's $X$, can simplify the formula as follows:\n",
        "\n",
        "The correlation coefficient between any 2 vars is:\n",
        "\n",
        "\n",
        "$$\\rho_{xy} = \\frac{\\sigma_{xy}}{\\sigma_x  \\sigma_y}$$\n",
        "\n",
        "Using this new value, we can rewrite the term inside the exp of the general normal for the 2D case as (easy to proof):\n",
        "\n",
        "$$(X-\\mu)^T\\Sigma^{-1}(X-\\mu) = \\frac{1}{1-\\rho_{xy}^2}(\\frac{1}{2\\sigma_{xx}^2}(x-\\mu_x)^2 + \\frac{1}{2\\sigma_{yy}^2}(y-\\mu_y)^2 - 2\\rho_{xy}(\\frac{x-\\mu_x}{\\sigma_{xx}}+\\frac{y-\\mu_y}{\\sigma_{yy}}))$$\n",
        "\n",
        "\n",
        "For  $\\sigma_{xy} = \\sigma_{yx} = 0$, the formula reduces to (for n=2):\n",
        "\n",
        "$$p(x; \\mu, \\sigma) = \\frac{1}{(2\\pi) |\\sigma_{xx}\\sigma_{yy} |} exp (-(\\frac{1}{2\\sigma_{xx}^2}(x-\\mu_x)^2 + \\frac{1}{2\\sigma_{yy}^2}(y-\\mu_y)^2)$$\n",
        "\n",
        "If $\\rho_{xy} > 0$, then $x$ and $y$ are __positively__ correlated\n",
        "\n"
      ]
    },
    {
      "cell_type": "code",
      "metadata": {
        "id": "s-olFtBF1qev",
        "colab_type": "code",
        "outputId": "88795e74-1c4f-42a2-b392-c24413fbadf8",
        "colab": {
          "base_uri": "https://localhost:8080/",
          "height": 68
        }
      },
      "source": [
        "m = 10\n",
        "mean = np.array([0, 0])\n",
        "cov = np.array([[2, 1], [1, 1]])\n",
        "\n",
        "sigma_x = cov[0,0]\n",
        "sigma_y = cov[1,1]\n",
        "mu_x = mean[0]\n",
        "mu_y = mean[1]\n",
        "rho = cov[0,1]/(sigma_x*sigma_y)\n",
        "\n",
        "x, y = np.random.multivariate_normal(mean, cov, m).T\n",
        "p_x_y = 1/(2*np.pi*sigma_x*sigma_y) * np.exp(-1/(1-rho**2)*((x-mu_x)**2/(sigma_x**2) + (y-mu_y)**2/(sigma_y**2)-  2*rho*(x-mu_x)/sigma_x*(y-mu_y)/sigma_y))\n",
        "\n",
        "print(p_x_y)\n",
        "p_x_y.shape"
      ],
      "execution_count": 0,
      "outputs": [
        {
          "output_type": "stream",
          "text": [
            "[0.07640597 0.04363611 0.04510274 0.00381996 0.02097928 0.00699089\n",
            " 0.02541156 0.06979643 0.07106658 0.01330582]\n"
          ],
          "name": "stdout"
        },
        {
          "output_type": "execute_result",
          "data": {
            "text/plain": [
              "(10,)"
            ]
          },
          "metadata": {
            "tags": []
          },
          "execution_count": 26
        }
      ]
    },
    {
      "cell_type": "code",
      "metadata": {
        "id": "ITbk7O-N1idg",
        "colab_type": "code",
        "colab": {}
      },
      "source": [
        "def normal_scatter(mean, cov):\n",
        "  \n",
        "  size = 100\n",
        "  sigma_x = cov[0,0]\n",
        "  sigma_y = cov[1,1]\n",
        "  mu_x = mean[0]\n",
        "  mu_y = mean[1]\n",
        "  rho = cov[0,1]/(sigma_x*sigma_y)\n",
        "\n",
        "  x, y = np.random.multivariate_normal(mean, cov, size).T\n",
        "\n",
        "  plt.plot(x, y, 'x')  \n",
        "\n",
        "  x = np.linspace(mu_x-3*sigma_x, mu_x+3*sigma_x, size)\n",
        "  y = np.linspace(mu_y-3*sigma_y, mu_y+3*sigma_y, size)\n",
        "\n",
        "  x, y = np.meshgrid(x, y)\n",
        "\n",
        "\n",
        "\n",
        "  z = 1/(2*np.pi*sigma_x*sigma_y) * np.exp(-1/(1-rho**2)*((x-mu_x)**2/(sigma_x**2) + (y-mu_y)**2/(sigma_y**2)-  2*rho*(x-mu_x)/sigma_x*(y-mu_y)/sigma_y))\n",
        "\n",
        "  #plt.contourf(x, y, z, cmap='Blues', levels=1)\n",
        "  #plt.contourf(x, y, z, cmap='Blues', levels=2)\n",
        "  plt.contourf(x, y, z, cmap='Blues', levels=3)\n",
        "  #plt.contourf(x, y, z, cmap='Blues', levels=4)\n",
        "  #plt.contourf(x, y, z, cmap='Blues')\n",
        "\n",
        "  plt.colorbar()\n",
        "  plt.grid()\n",
        "  plt.xlim(mu_x-3*sigma_x, mu_x+3*sigma_x)\n",
        "  plt.ylim(mu_y-3*sigma_y, mu_y+3*sigma_y)\n",
        "  plt.axhline(y=0, color='k')\n",
        "  plt.axvline(x=0, color='k')\n"
      ],
      "execution_count": 0,
      "outputs": []
    },
    {
      "cell_type": "code",
      "metadata": {
        "id": "RUuCb3uh19Ql",
        "colab_type": "code",
        "outputId": "afa5fdcf-49f0-451a-fcc8-99ce03b6eff4",
        "colab": {
          "base_uri": "https://localhost:8080/",
          "height": 269
        }
      },
      "source": [
        "normal_scatter(mean,cov)"
      ],
      "execution_count": 0,
      "outputs": [
        {
          "output_type": "display_data",
          "data": {
            "image/png": "[encoded data removed]",
            "text/plain": [
              "<Figure size 432x288 with 2 Axes>"
            ]
          },
          "metadata": {
            "tags": []
          }
        }
      ]
    },
    {
      "cell_type": "markdown",
      "metadata": {
        "id": "kZFD7sksFkLT",
        "colab_type": "text"
      },
      "source": [
        "If $\\rho_{xy} = 0$, then $x$ and $y$ are __indpendent__\n",
        "\n",
        "We have diagonal $\\Sigma$ in this case\n",
        "\n",
        "In this case, we get inflated ellipse in 2D according to the direction of __max__ variance"
      ]
    },
    {
      "cell_type": "code",
      "metadata": {
        "id": "r6CMl8wCFrUk",
        "colab_type": "code",
        "outputId": "75993c96-ca50-411a-f222-5553a5e8abc8",
        "colab": {
          "base_uri": "https://localhost:8080/",
          "height": 269
        }
      },
      "source": [
        "mean = np.array([0, 0])\n",
        "cov = np.array([[2, 0], [0, .5]])\n",
        "normal_scatter(mean,cov)"
      ],
      "execution_count": 0,
      "outputs": [
        {
          "output_type": "display_data",
          "data": {
            "image/png": "[encoded data removed]",
            "text/plain": [
              "<Figure size 432x288 with 2 Axes>"
            ]
          },
          "metadata": {
            "tags": []
          }
        }
      ]
    },
    {
      "cell_type": "code",
      "metadata": {
        "id": "C8m_8otvF7ak",
        "colab_type": "code",
        "outputId": "38cfb7e4-ee82-499e-f994-c938eae069a0",
        "colab": {
          "base_uri": "https://localhost:8080/",
          "height": 269
        }
      },
      "source": [
        "mean = np.array([0, 0])\n",
        "cov = np.array([[.5, 0], [0, 2]])\n",
        "normal_scatter(mean,cov)"
      ],
      "execution_count": 0,
      "outputs": [
        {
          "output_type": "display_data",
          "data": {
            "image/png": "[encoded data removed]",
            "text/plain": [
              "<Figure size 432x288 with 2 Axes>"
            ]
          },
          "metadata": {
            "tags": []
          }
        }
      ]
    },
    {
      "cell_type": "markdown",
      "metadata": {
        "id": "enx031gbF-ed",
        "colab_type": "text"
      },
      "source": [
        "If $\\Sigma = I$ then we have a circle, meaning, all axes variations are the same:\n"
      ]
    },
    {
      "cell_type": "code",
      "metadata": {
        "id": "myEqP2zfGG4F",
        "colab_type": "code",
        "outputId": "1e0160b7-5965-4121-e601-096c8fdf776b",
        "colab": {
          "base_uri": "https://localhost:8080/",
          "height": 269
        }
      },
      "source": [
        "mean = np.array([0, 0])\n",
        "cov = np.array([[1, 0], [0, 1]])\n",
        "normal_scatter(mean,cov)"
      ],
      "execution_count": 0,
      "outputs": [
        {
          "output_type": "display_data",
          "data": {
            "image/png": "[encoded data removed]",
            "text/plain": [
              "<Figure size 432x288 with 2 Axes>"
            ]
          },
          "metadata": {
            "tags": []
          }
        }
      ]
    },
    {
      "cell_type": "markdown",
      "metadata": {
        "id": "6Ox5gJU3qz-v",
        "colab_type": "text"
      },
      "source": [
        "## Using scipy\n",
        "\n",
        "As we did in the 1D case, we could use scipy to evaluate the pdf equation for us:"
      ]
    },
    {
      "cell_type": "code",
      "metadata": {
        "id": "IPRNz0pnq7bB",
        "colab_type": "code",
        "outputId": "9b3d7e87-7423-491c-d80a-aa9f204ed415",
        "colab": {
          "base_uri": "https://localhost:8080/",
          "height": 68
        }
      },
      "source": [
        "m = 10\n",
        "mean = np.array([0, 0])\n",
        "cov = np.array([[2, 1], [1, 1]])\n",
        "\n",
        "sigma_x = cov[0,0]\n",
        "sigma_y = cov[1,1]\n",
        "mu_x = mean[0]\n",
        "mu_y = mean[1]\n",
        "rho = cov[0,1]/(sigma_x*sigma_y)\n",
        "\n",
        "X = np.random.multivariate_normal(mean, cov, m)\n",
        "p_x_y = multivariate_normal.pdf(X, mean, cov)\n",
        "\n",
        "print(p_x_y)\n",
        "p_x_y.shape"
      ],
      "execution_count": 0,
      "outputs": [
        {
          "output_type": "stream",
          "text": [
            "[0.09462043 0.03492574 0.10961329 0.07304406 0.15021743 0.03320386\n",
            " 0.13147753 0.06477662 0.06892461 0.0702591 ]\n"
          ],
          "name": "stdout"
        },
        {
          "output_type": "execute_result",
          "data": {
            "text/plain": [
              "(10,)"
            ]
          },
          "metadata": {
            "tags": []
          },
          "execution_count": 32
        }
      ]
    },
    {
      "cell_type": "code",
      "metadata": {
        "id": "4U-Tq2Vy39qb",
        "colab_type": "code",
        "outputId": "20007216-31d2-4fef-ed48-aaffc26982a9",
        "colab": {
          "base_uri": "https://localhost:8080/",
          "height": 68
        }
      },
      "source": [
        "m = 10\n",
        "mean = np.array([0, 0])\n",
        "cov = np.array([[2, 1], [1, 1]])\n",
        "\n",
        "sigma_x = cov[0,0]\n",
        "sigma_y = cov[1,1]\n",
        "mu_x = mean[0]\n",
        "mu_y = mean[1]\n",
        "rho = cov[0,1]/(sigma_x*sigma_y)\n",
        "\n",
        "x = np.linspace(-1, 1, m)\n",
        "y = np.linspace(-1, 1, m)\n",
        "X = np.array(list(zip(x,y)))\n",
        "\n",
        "#X = multivariate_normal(mean, cov, m)\n",
        "p_x_y = multivariate_normal.pdf(X, mean, cov)\n",
        "\n",
        "print(p_x_y)\n",
        "p_x_y.shape"
      ],
      "execution_count": 0,
      "outputs": [
        {
          "output_type": "stream",
          "text": [
            "[0.09653235 0.11761412 0.13639529 0.15055413 0.15817553 0.15817553\n",
            " 0.15055413 0.13639529 0.11761412 0.09653235]\n"
          ],
          "name": "stdout"
        },
        {
          "output_type": "execute_result",
          "data": {
            "text/plain": [
              "(10,)"
            ]
          },
          "metadata": {
            "tags": []
          },
          "execution_count": 33
        }
      ]
    },
    {
      "cell_type": "code",
      "metadata": {
        "id": "bn7t8ig_5tRU",
        "colab_type": "code",
        "outputId": "358e012b-f6d0-4d83-fc6c-d3f5cab0742b",
        "colab": {
          "base_uri": "https://localhost:8080/",
          "height": 34
        }
      },
      "source": [
        "X.shape"
      ],
      "execution_count": 0,
      "outputs": [
        {
          "output_type": "execute_result",
          "data": {
            "text/plain": [
              "(10, 2)"
            ]
          },
          "metadata": {
            "tags": []
          },
          "execution_count": 34
        }
      ]
    },
    {
      "cell_type": "markdown",
      "metadata": {
        "id": "uNPNUs-N5knp",
        "colab_type": "text"
      },
      "source": [
        "In general:\n",
        "\n",
        "$$X \\in \\Bbb{R}^{m \\times n}$$\n",
        "$$\\mu \\in \\Bbb{R}^{n \\times 1}$$\n",
        "$$\\Sigma \\in \\Bbb{R}^{n \\times n}$$"
      ]
    },
    {
      "cell_type": "code",
      "metadata": {
        "id": "WLlIOpM85bNe",
        "colab_type": "code",
        "outputId": "fe8ed2a9-4e45-44b8-940d-e7493921c393",
        "colab": {
          "base_uri": "https://localhost:8080/",
          "height": 34
        }
      },
      "source": [
        "'''\n",
        "def calc_p_normal(X, mu, cov):\n",
        "  return multivariate_normal.pdf(X, mu, cov)\n",
        "'''  "
      ],
      "execution_count": 0,
      "outputs": [
        {
          "output_type": "execute_result",
          "data": {
            "text/plain": [
              "'\\ndef calc_p_normal(X, mu, cov):\\n  return multivariate_normal.pdf(X, mu, cov)\\n'"
            ]
          },
          "metadata": {
            "tags": []
          },
          "execution_count": 35
        }
      ]
    },
    {
      "cell_type": "markdown",
      "metadata": {
        "id": "ApHrQg3SreXQ",
        "colab_type": "text"
      },
      "source": [
        "## Calculate probability (Area Under Curve) (CDF)"
      ]
    },
    {
      "cell_type": "markdown",
      "metadata": {
        "id": "C-j7DTLWstNk",
        "colab_type": "text"
      },
      "source": [
        "\n",
        "\n",
        "For disrete $X$, the probaility translates to __normalized__ histogram. Hence, the probability that $X$ takes a value in _any_ bin, is the normalized _count_ of values in that bin. But again, the probability that $X$ takes this exact value will be very low, since it's not common to have the exact value counted many times. Also, in case of discrete $X$, it's like a range of $X$s from the start to end of the bin.\n",
        "\n",
        "\n",
        "Given the reasoning above, we usually calculate the probability of the RV takes a certain range, which translates to integration in continous case as follows:\n",
        "$$P(X<X_0) = \\int_{-\\infty}^{X_0}P(X;\\mu, \\Sigma)$$\n",
        "\n",
        "In case of discrete, the integration is a summation.\n",
        "\n",
        "This maps to an area under the curve of the pdf. OR in case of discrete $X$, it's the cumulation of the values of bin counts, hence it's called __cumulative density function CDF__\n"
      ]
    },
    {
      "cell_type": "code",
      "metadata": {
        "id": "hby_Wy9BukTv",
        "colab_type": "code",
        "outputId": "83aae26d-e19f-4278-a5dd-7cb23d73c674",
        "colab": {
          "base_uri": "https://localhost:8080/",
          "height": 34
        }
      },
      "source": [
        "X_0 = 0.25\n",
        "mu, sigma = 0, 0.2\n",
        "P_X_less_X_0 = norm.cdf(X_0, mu, sigma)\n",
        "P_X_less_X_0"
      ],
      "execution_count": 0,
      "outputs": [
        {
          "output_type": "execute_result",
          "data": {
            "text/plain": [
              "0.8943502263331446"
            ]
          },
          "metadata": {
            "tags": []
          },
          "execution_count": 36
        }
      ]
    },
    {
      "cell_type": "markdown",
      "metadata": {
        "id": "inWZBR4EvWJW",
        "colab_type": "text"
      },
      "source": [
        "Let's see what this are means:"
      ]
    },
    {
      "cell_type": "markdown",
      "metadata": {
        "id": "AeYWcKH6r4u2",
        "colab_type": "text"
      },
      "source": [
        "## Fill area under curve"
      ]
    },
    {
      "cell_type": "code",
      "metadata": {
        "id": "oYxuMZZXr6eT",
        "colab_type": "code",
        "colab": {}
      },
      "source": [
        "def plot_area(mu, sigma, limit1, limit2, ax, color):\n",
        "\n",
        "  x1 = limit1\n",
        "  x2 = limit2\n",
        "\n",
        "\n",
        "  x = np.arange(x1, x2, 0.001) # range of x in spec\n",
        "  p_w1 = np.arange(-10, 10, 0.001) # entire range of x, both in and out of spec\n",
        "  y = norm.pdf(x,mu,sigma)\n",
        "  y2 = norm.pdf(p_w1,mu,sigma)\n",
        "\n",
        "  # build the plot\n",
        "  #fig, ax = plt.subplots(figsize=(9,6))\n",
        "  #plt.style.use('fivethirtyeight')\n",
        "  ax.plot(p_w1,y2)\n",
        "\n",
        "  ax.fill_between(x,y,0, alpha=0.3, color=color)\n",
        "  ax.fill_between(p_w1,y2,0, alpha=0.1)\n",
        "  ax.set_xlim([-1,1])\n",
        "  ax.set_xlabel('# of Standard Deviations Outside the Mean')\n",
        "  ax.set_yticklabels([])"
      ],
      "execution_count": 0,
      "outputs": []
    },
    {
      "cell_type": "code",
      "metadata": {
        "id": "fIZIyi6IsWB2",
        "colab_type": "code",
        "outputId": "52868d61-8af8-423f-b449-a3c93cff4867",
        "colab": {
          "base_uri": "https://localhost:8080/",
          "height": 388
        }
      },
      "source": [
        "fig, ax = plt.subplots(figsize=(9,6))\n",
        "mu, sigma = 0, 0.2\n",
        "plot_area(mu, sigma, 0.25,1,ax,'b')"
      ],
      "execution_count": 0,
      "outputs": [
        {
          "output_type": "display_data",
          "data": {
            "image/png": "[encoded data removed]",
            "text/plain": [
              "<Figure size 648x432 with 1 Axes>"
            ]
          },
          "metadata": {
            "tags": []
          }
        }
      ]
    },
    {
      "cell_type": "markdown",
      "metadata": {
        "id": "-5JA6ba0vZHm",
        "colab_type": "text"
      },
      "source": [
        "As you can see, the area is the light blue one (x<0.25)\n",
        "\n",
        "To get the dark blue one, we have to do 1-CDF:"
      ]
    },
    {
      "cell_type": "code",
      "metadata": {
        "id": "iKExsPY4viZ_",
        "colab_type": "code",
        "outputId": "65c58521-5a6c-450b-bdc9-255e050099bb",
        "colab": {
          "base_uri": "https://localhost:8080/",
          "height": 34
        }
      },
      "source": [
        "1-norm.cdf(X_0, mu, sigma)"
      ],
      "execution_count": 0,
      "outputs": [
        {
          "output_type": "execute_result",
          "data": {
            "text/plain": [
              "0.10564977366685535"
            ]
          },
          "metadata": {
            "tags": []
          },
          "execution_count": 39
        }
      ]
    },
    {
      "cell_type": "markdown",
      "metadata": {
        "id": "l7Aya643qsTx",
        "colab_type": "text"
      },
      "source": [
        "# Plotting"
      ]
    },
    {
      "cell_type": "markdown",
      "metadata": {
        "id": "XVF-kY88v4OW",
        "colab_type": "text"
      },
      "source": [
        "To plot the normal curve we have many ways:"
      ]
    },
    {
      "cell_type": "markdown",
      "metadata": {
        "id": "_Txmk9Euk8V8",
        "colab_type": "text"
      },
      "source": [
        "## From samples\n",
        "\n",
        "We can first sample the distribution, but this will give __unordered__ and __repeated__ values. \n",
        "\n",
        "What we want is an axis, say x, and the corresponding values P(X)\n",
        "\n",
        "So what to do if we have samples?\n",
        "\n",
        "The simplest way is to __Group__ those samples, using histogram. This is the simple counting idea to build a density function"
      ]
    },
    {
      "cell_type": "code",
      "metadata": {
        "id": "Ro-g3B32qtoR",
        "colab_type": "code",
        "outputId": "97a19245-f909-4e67-c83d-b200a486df3f",
        "colab": {
          "base_uri": "https://localhost:8080/",
          "height": 265
        }
      },
      "source": [
        "mu, sigma = 0.25, 0.1 # mean and standard deviation\n",
        "s = np.random.normal(mu, sigma, 1000)\n",
        "count, bins, ignored = plt.hist(s, 30, density=True)\n"
      ],
      "execution_count": 0,
      "outputs": [
        {
          "output_type": "display_data",
          "data": {
            "image/png": "[encoded data removed]",
            "text/plain": [
              "<Figure size 432x288 with 1 Axes>"
            ]
          },
          "metadata": {
            "tags": []
          }
        }
      ]
    },
    {
      "cell_type": "markdown",
      "metadata": {
        "id": "MUFFRsOpwjgY",
        "colab_type": "text"
      },
      "source": [
        "Now having the bins as our x-axis, we can evaluate the pdf at every point:"
      ]
    },
    {
      "cell_type": "code",
      "metadata": {
        "id": "o5PMq3FTwY3h",
        "colab_type": "code",
        "outputId": "51fe3ba8-64e7-4059-d9f2-a88b87fc2e9a",
        "colab": {
          "base_uri": "https://localhost:8080/",
          "height": 282
        }
      },
      "source": [
        "plt.plot(bins, 1/(sigma * np.sqrt(2 * np.pi)) * np.exp( - (bins - mu)**2 / (2 * sigma**2) ), linewidth=2, color='r')"
      ],
      "execution_count": 0,
      "outputs": [
        {
          "output_type": "execute_result",
          "data": {
            "text/plain": [
              "[<matplotlib.lines.Line2D at 0x7ffae9645a90>]"
            ]
          },
          "metadata": {
            "tags": []
          },
          "execution_count": 41
        },
        {
          "output_type": "display_data",
          "data": {
            "image/png": "[encoded data removed]",
            "text/plain": [
              "<Figure size 432x288 with 1 Axes>"
            ]
          },
          "metadata": {
            "tags": []
          }
        }
      ]
    },
    {
      "cell_type": "markdown",
      "metadata": {
        "id": "cyuvNPBWwdfd",
        "colab_type": "text"
      },
      "source": [
        "We could overlap both:"
      ]
    },
    {
      "cell_type": "code",
      "metadata": {
        "id": "VR-fpTDSwfVg",
        "colab_type": "code",
        "outputId": "ea933d84-a116-4f78-f276-9e0389427a82",
        "colab": {
          "base_uri": "https://localhost:8080/",
          "height": 282
        }
      },
      "source": [
        "mu, sigma = 0.25, 0.1 # mean and standard deviation\n",
        "s = np.random.normal(mu, sigma, 1000)\n",
        "count, bins, ignored = plt.hist(s, 30, density=True)\n",
        "plt.plot(bins, 1/(sigma * np.sqrt(2 * np.pi)) * np.exp( - (bins - mu)**2 / (2 * sigma**2) ), linewidth=2, color='r')"
      ],
      "execution_count": 0,
      "outputs": [
        {
          "output_type": "execute_result",
          "data": {
            "text/plain": [
              "[<matplotlib.lines.Line2D at 0x7ffae974c4e0>]"
            ]
          },
          "metadata": {
            "tags": []
          },
          "execution_count": 42
        },
        {
          "output_type": "display_data",
          "data": {
            "image/png": "[encoded data removed]",
            "text/plain": [
              "<Figure size 432x288 with 1 Axes>"
            ]
          },
          "metadata": {
            "tags": []
          }
        }
      ]
    },
    {
      "cell_type": "markdown",
      "metadata": {
        "id": "LZznW-n-DORm",
        "colab_type": "text"
      },
      "source": [
        "Alternatively, we could sweep the x-axis usign linspace, and evaluate P at each point:"
      ]
    },
    {
      "cell_type": "code",
      "metadata": {
        "id": "GferlvbnmlU9",
        "colab_type": "code",
        "outputId": "20e2af21-d0ee-44e2-b242-92b16b1cf4bd",
        "colab": {
          "base_uri": "https://localhost:8080/",
          "height": 282
        }
      },
      "source": [
        "mu, sigma = 0.25, 0.1 # mean and standard deviation\n",
        "x = np.linspace(-.1,.5,1000)\n",
        "plt.plot(x, 1/(sigma * np.sqrt(2 * np.pi)) * np.exp( - (x - mu)**2 / (2 * sigma**2) ), linewidth=2, color='r')"
      ],
      "execution_count": 0,
      "outputs": [
        {
          "output_type": "execute_result",
          "data": {
            "text/plain": [
              "[<matplotlib.lines.Line2D at 0x7ffae94ec780>]"
            ]
          },
          "metadata": {
            "tags": []
          },
          "execution_count": 43
        },
        {
          "output_type": "display_data",
          "data": {
            "image/png": "[encoded data removed]",
            "text/plain": [
              "<Figure size 432x288 with 1 Axes>"
            ]
          },
          "metadata": {
            "tags": []
          }
        }
      ]
    },
    {
      "cell_type": "markdown",
      "metadata": {
        "id": "xkVbJzvUDr7H",
        "colab_type": "text"
      },
      "source": [
        "Equivalently using scipy"
      ]
    },
    {
      "cell_type": "code",
      "metadata": {
        "id": "E9OivPnoDuP0",
        "colab_type": "code",
        "outputId": "35b47914-662d-456d-d04e-7f7fecfda884",
        "colab": {
          "base_uri": "https://localhost:8080/",
          "height": 282
        }
      },
      "source": [
        "mu, sigma = 0.25, 0.1 # mean and standard deviation\n",
        "x = np.linspace(-1,1,100)\n",
        "plt.plot(x, multivariate_normal.pdf(x,mu,sigma))\n"
      ],
      "execution_count": 0,
      "outputs": [
        {
          "output_type": "execute_result",
          "data": {
            "text/plain": [
              "[<matplotlib.lines.Line2D at 0x7ffae94d2a20>]"
            ]
          },
          "metadata": {
            "tags": []
          },
          "execution_count": 44
        },
        {
          "output_type": "display_data",
          "data": {
            "image/png": "[encoded data removed]",
            "text/plain": [
              "<Figure size 432x288 with 1 Axes>"
            ]
          },
          "metadata": {
            "tags": []
          }
        }
      ]
    },
    {
      "cell_type": "markdown",
      "metadata": {
        "id": "RZFMQAAMk6U_",
        "colab_type": "text"
      },
      "source": [
        "## n-D"
      ]
    },
    {
      "cell_type": "markdown",
      "metadata": {
        "id": "e6SVI_aCmmDm",
        "colab_type": "text"
      },
      "source": [
        "In case we have $m$ samples of $X_i$, each of dimension $n$, then we have a matrix as follows:\n",
        "\n",
        "$$ X = \n",
        "\\begin{bmatrix}\n",
        "X_1^T\\\\\n",
        "X_2^T\\\\\n",
        "...\\\\\n",
        "X_m^T\\\\\n",
        "\\end{bmatrix}\n",
        "$$\n",
        "\n",
        "In this case, $X \\in \\Bbb{R}^{m \\times n}$\n",
        "\n"
      ]
    },
    {
      "cell_type": "markdown",
      "metadata": {
        "id": "glB-qXeO7FHA",
        "colab_type": "text"
      },
      "source": [
        "To plot, we need to __span__ or __sweep__ $n$ axes. Say we want resolution as $m$ values per axis, then we have $m \\times m \\times m .... \\times m (n-times)$ evaluations of $P(X; \\mu\\, Sigma)$\n"
      ]
    },
    {
      "cell_type": "markdown",
      "metadata": {
        "id": "JUo4hWts8ZLw",
        "colab_type": "text"
      },
      "source": [
        "To sweep $n$ axes, with $m$ values per each, we need $m \\times m \\times ,....\\times m (n-times)$ points each having $n$ dimensions, so we need points matrix of size $m \\times m \\times m \\times.....\\times n$.\n",
        "\n",
        "For each point, we need to evaluate $P(X; \\mu, \\Sigma)$"
      ]
    },
    {
      "cell_type": "markdown",
      "metadata": {
        "id": "oOehYZaD9ADT",
        "colab_type": "text"
      },
      "source": [
        "`np.meshgrid` can be used to repeat every axis to obtain all combinations as follows:"
      ]
    },
    {
      "cell_type": "code",
      "metadata": {
        "id": "7UY5_jm974Fo",
        "colab_type": "code",
        "outputId": "b41ed178-aab3-476c-e7b3-dda919ff637f",
        "colab": {
          "base_uri": "https://localhost:8080/",
          "height": 119
        }
      },
      "source": [
        "x = [1,2,3]\n",
        "y = [4,5,6]\n",
        "x, y = np.meshgrid(x,y)\n",
        "print(x)\n",
        "print(y)"
      ],
      "execution_count": 0,
      "outputs": [
        {
          "output_type": "stream",
          "text": [
            "[[1 2 3]\n",
            " [1 2 3]\n",
            " [1 2 3]]\n",
            "[[4 4 4]\n",
            " [5 5 5]\n",
            " [6 6 6]]\n"
          ],
          "name": "stdout"
        }
      ]
    },
    {
      "cell_type": "markdown",
      "metadata": {
        "id": "2dA9z_Gb-KmY",
        "colab_type": "text"
      },
      "source": [
        "We can have a grid of size $m \\times m \\times n$ that represent all the points in that space as follows:"
      ]
    },
    {
      "cell_type": "code",
      "metadata": {
        "id": "K7Yr_1di-Fhs",
        "colab_type": "code",
        "outputId": "e323b469-2330-4d94-bc5e-a6bc8b273a7b",
        "colab": {
          "base_uri": "https://localhost:8080/",
          "height": 34
        }
      },
      "source": [
        "grid = np.empty(x.shape + (2,))\n",
        "grid[:, :, 0] = x; grid[:, :, 1] = y\n",
        "\n",
        "grid.shape"
      ],
      "execution_count": 0,
      "outputs": [
        {
          "output_type": "execute_result",
          "data": {
            "text/plain": [
              "(3, 3, 2)"
            ]
          },
          "metadata": {
            "tags": []
          },
          "execution_count": 46
        }
      ]
    },
    {
      "cell_type": "code",
      "metadata": {
        "id": "vZPRi9dv-V_Z",
        "colab_type": "code",
        "outputId": "32d0d671-a378-4732-ee2e-37ab13b92026",
        "colab": {
          "base_uri": "https://localhost:8080/",
          "height": 204
        }
      },
      "source": [
        "grid"
      ],
      "execution_count": 0,
      "outputs": [
        {
          "output_type": "execute_result",
          "data": {
            "text/plain": [
              "array([[[1., 4.],\n",
              "        [2., 4.],\n",
              "        [3., 4.]],\n",
              "\n",
              "       [[1., 5.],\n",
              "        [2., 5.],\n",
              "        [3., 5.]],\n",
              "\n",
              "       [[1., 6.],\n",
              "        [2., 6.],\n",
              "        [3., 6.]]])"
            ]
          },
          "metadata": {
            "tags": []
          },
          "execution_count": 47
        }
      ]
    },
    {
      "cell_type": "markdown",
      "metadata": {
        "id": "FZ5PuU7R-bQG",
        "colab_type": "text"
      },
      "source": [
        "The above grid represent all $m \\times m$ = 9 points in the grid, with their coordinates"
      ]
    },
    {
      "cell_type": "markdown",
      "metadata": {
        "id": "7om5ozHl-vpT",
        "colab_type": "text"
      },
      "source": [
        "To understand it better, consider the simple 2D case:"
      ]
    },
    {
      "cell_type": "code",
      "metadata": {
        "id": "tdG0giiO-nhV",
        "colab_type": "code",
        "outputId": "6e486da9-95bd-4524-cc62-53b4a57f7e08",
        "colab": {
          "base_uri": "https://localhost:8080/",
          "height": 102
        }
      },
      "source": [
        "x = [0,1]\n",
        "y = [0,1]\n",
        "x, y = np.meshgrid(x,y)\n",
        "grid = np.empty(x.shape + (2,))\n",
        "grid[:, :, 0] = x; grid[:, :, 1] = y\n",
        "grid"
      ],
      "execution_count": 0,
      "outputs": [
        {
          "output_type": "execute_result",
          "data": {
            "text/plain": [
              "array([[[0., 0.],\n",
              "        [1., 0.]],\n",
              "\n",
              "       [[0., 1.],\n",
              "        [1., 1.]]])"
            ]
          },
          "metadata": {
            "tags": []
          },
          "execution_count": 48
        }
      ]
    },
    {
      "cell_type": "markdown",
      "metadata": {
        "id": "R3hCi4PI9Oea",
        "colab_type": "text"
      },
      "source": [
        "In general it returns a list of axes values (say like linspace), repeated with the length of each axis."
      ]
    },
    {
      "cell_type": "code",
      "metadata": {
        "id": "4MRoIbq2826I",
        "colab_type": "code",
        "outputId": "85626445-2bc3-4502-9c9b-81402a281ba7",
        "colab": {
          "base_uri": "https://localhost:8080/",
          "height": 34
        }
      },
      "source": [
        "x = [1,2,3]\n",
        "y = [4,5,6]\n",
        "z = [4,5,6]\n",
        "X = np.meshgrid(x,y,z)\n",
        "print(len(X))\n"
      ],
      "execution_count": 0,
      "outputs": [
        {
          "output_type": "stream",
          "text": [
            "3\n"
          ],
          "name": "stdout"
        }
      ]
    },
    {
      "cell_type": "code",
      "metadata": {
        "id": "8nxGzlmP9tMV",
        "colab_type": "code",
        "outputId": "adafbac4-69dd-475a-8b0f-518234f1add4",
        "colab": {
          "base_uri": "https://localhost:8080/",
          "height": 578
        }
      },
      "source": [
        "x = [1,2,3]\n",
        "y = [4,5,6]\n",
        "z = [7,8,9]\n",
        "x,y,z = np.meshgrid(x,y,z)\n",
        "print(x)\n",
        "\n",
        "print(y)\n",
        "\n",
        "print(z)"
      ],
      "execution_count": 0,
      "outputs": [
        {
          "output_type": "stream",
          "text": [
            "[[[1 1 1]\n",
            "  [2 2 2]\n",
            "  [3 3 3]]\n",
            "\n",
            " [[1 1 1]\n",
            "  [2 2 2]\n",
            "  [3 3 3]]\n",
            "\n",
            " [[1 1 1]\n",
            "  [2 2 2]\n",
            "  [3 3 3]]]\n",
            "[[[4 4 4]\n",
            "  [4 4 4]\n",
            "  [4 4 4]]\n",
            "\n",
            " [[5 5 5]\n",
            "  [5 5 5]\n",
            "  [5 5 5]]\n",
            "\n",
            " [[6 6 6]\n",
            "  [6 6 6]\n",
            "  [6 6 6]]]\n",
            "[[[7 8 9]\n",
            "  [7 8 9]\n",
            "  [7 8 9]]\n",
            "\n",
            " [[7 8 9]\n",
            "  [7 8 9]\n",
            "  [7 8 9]]\n",
            "\n",
            " [[7 8 9]\n",
            "  [7 8 9]\n",
            "  [7 8 9]]]\n"
          ],
          "name": "stdout"
        }
      ]
    },
    {
      "cell_type": "markdown",
      "metadata": {
        "id": "JrCgqhrD-_yq",
        "colab_type": "text"
      },
      "source": [
        "The above grid can be used to evaluate $P(X;\\mu, \\Sigma)$ at each point.\n",
        "\n"
      ]
    },
    {
      "cell_type": "markdown",
      "metadata": {
        "id": "9qqnmBVI_NAl",
        "colab_type": "text"
      },
      "source": [
        "Also, in numpy, we can mix linspace operation with meshgrid in one step using `np.mgrid`"
      ]
    },
    {
      "cell_type": "code",
      "metadata": {
        "id": "AqB97UKW_edq",
        "colab_type": "code",
        "outputId": "1b72759a-5552-4e15-f529-0711e4a0fbf2",
        "colab": {
          "base_uri": "https://localhost:8080/",
          "height": 282
        }
      },
      "source": [
        "#https://docs.scipy.org/doc/scipy-0.14.0/reference/generated/scipy.stats.multivariate_normal.html\n",
        "x, y = np.mgrid[-1:1:.01, -1:1:.01]\n",
        "grid = np.empty(x.shape + (2,))\n",
        "grid[:, :, 0] = x; grid[:, :, 1] = y\n",
        "\n",
        "mean = np.array([0, 0])\n",
        "cov = np.array([[.1, -.25], [-.1, .25]])\n",
        "\n",
        "#rv = multivariate_normal([0.5, -0.2], [[2.0, 0.3], [0.3, 0.5]])\n",
        "#z = rv.pdf(pos)\n",
        "z = multivariate_normal(mean, cov).pdf(grid)\n",
        "\n",
        "#plt.contourf(x, y, rv.pdf(pos))\n",
        "plt.contour(x, y, z, cmap='Blues', levels=3)"
      ],
      "execution_count": 0,
      "outputs": [
        {
          "output_type": "execute_result",
          "data": {
            "text/plain": [
              "<matplotlib.contour.QuadContourSet at 0x7ffae944c358>"
            ]
          },
          "metadata": {
            "tags": []
          },
          "execution_count": 51
        },
        {
          "output_type": "display_data",
          "data": {
            "image/png": "[encoded data removed]",
            "text/plain": [
              "<Figure size 432x288 with 1 Axes>"
            ]
          },
          "metadata": {
            "tags": []
          }
        }
      ]
    },
    {
      "cell_type": "markdown",
      "metadata": {
        "id": "0L3ltTgI_3jT",
        "colab_type": "text"
      },
      "source": [
        "We could also directly use multivariate_normal.pdf instead of nesting as above:"
      ]
    },
    {
      "cell_type": "code",
      "metadata": {
        "id": "s1zTZo17_8jG",
        "colab_type": "code",
        "outputId": "d9e8cf4b-6afd-4c6c-b322-db9e77a26622",
        "colab": {
          "base_uri": "https://localhost:8080/",
          "height": 282
        }
      },
      "source": [
        "#https://docs.scipy.org/doc/scipy-0.14.0/reference/generated/scipy.stats.multivariate_normal.html\n",
        "x, y = np.mgrid[-1:1:.01, -1:1:.01]\n",
        "grid = np.empty(x.shape + (2,))\n",
        "grid[:, :, 0] = x; grid[:, :, 1] = y\n",
        "\n",
        "mean = np.array([0, 0])\n",
        "cov = np.array([[.1, -.25], [-.1, .25]])\n",
        "\n",
        "#rv = multivariate_normal([0.5, -0.2], [[2.0, 0.3], [0.3, 0.5]])\n",
        "#z = rv.pdf(pos)\n",
        "z = multivariate_normal.pdf(grid, mean, cov)\n",
        "\n",
        "#plt.contourf(x, y, rv.pdf(pos))\n",
        "plt.contour(x, y, z, cmap='Blues', levels=3)"
      ],
      "execution_count": 0,
      "outputs": [
        {
          "output_type": "execute_result",
          "data": {
            "text/plain": [
              "<matplotlib.contour.QuadContourSet at 0x7ffae93b7b38>"
            ]
          },
          "metadata": {
            "tags": []
          },
          "execution_count": 52
        },
        {
          "output_type": "display_data",
          "data": {
            "image/png": "[encoded data removed]",
            "text/plain": [
              "<Figure size 432x288 with 1 Axes>"
            ]
          },
          "metadata": {
            "tags": []
          }
        }
      ]
    },
    {
      "cell_type": "markdown",
      "metadata": {
        "id": "BHXIKFthBK9y",
        "colab_type": "text"
      },
      "source": [
        "Noice that, we have $m=200$, we expect z to be $200*200=40000$. But since we passed a grid to multivariate_normal.pdf, we get also a grid evaluation of the same shape $200 \\times 200$.\n",
        "\n",
        "In general, it will return $m \\times m \\times m.....$ for n-D\n",
        "\n",
        "This enable us to plot it in n-D.\n",
        "\n",
        "For 2D it will be $m \\times m$"
      ]
    },
    {
      "cell_type": "markdown",
      "metadata": {
        "id": "Ljbmdc8TJEK0",
        "colab_type": "text"
      },
      "source": [
        "In general the number of dimensions of the grid are $n+1$\n",
        "\n"
      ]
    },
    {
      "cell_type": "markdown",
      "metadata": {
        "id": "a7MoyHzIJRpT",
        "colab_type": "text"
      },
      "source": [
        "For 2D, we have 3D grid:"
      ]
    },
    {
      "cell_type": "code",
      "metadata": {
        "id": "Kn5udBXvJLZe",
        "colab_type": "code",
        "outputId": "bd927ec8-ff11-438c-c726-157d35256d45",
        "colab": {
          "base_uri": "https://localhost:8080/",
          "height": 34
        }
      },
      "source": [
        "grid.ndim"
      ],
      "execution_count": 0,
      "outputs": [
        {
          "output_type": "execute_result",
          "data": {
            "text/plain": [
              "3"
            ]
          },
          "metadata": {
            "tags": []
          },
          "execution_count": 53
        }
      ]
    },
    {
      "cell_type": "markdown",
      "metadata": {
        "id": "IigXmAADJUui",
        "colab_type": "text"
      },
      "source": [
        "The evaluations of $P(X;\\mu, \\Sigma)$ are 2D map or projections as we will see below ($n-1$ dims in general)"
      ]
    },
    {
      "cell_type": "code",
      "metadata": {
        "id": "XHwItvQvJeIZ",
        "colab_type": "code",
        "outputId": "8bf93884-320d-41cb-d725-772bf0e21d4e",
        "colab": {
          "base_uri": "https://localhost:8080/",
          "height": 34
        }
      },
      "source": [
        "z.ndim"
      ],
      "execution_count": 0,
      "outputs": [
        {
          "output_type": "execute_result",
          "data": {
            "text/plain": [
              "2"
            ]
          },
          "metadata": {
            "tags": []
          },
          "execution_count": 54
        }
      ]
    },
    {
      "cell_type": "code",
      "metadata": {
        "id": "9nGQ9-q3BIfB",
        "colab_type": "code",
        "outputId": "6e752ee4-f67b-4ed0-961f-25fc0cc6aaa3",
        "colab": {
          "base_uri": "https://localhost:8080/",
          "height": 34
        }
      },
      "source": [
        "z.shape"
      ],
      "execution_count": 0,
      "outputs": [
        {
          "output_type": "execute_result",
          "data": {
            "text/plain": [
              "(200, 200)"
            ]
          },
          "metadata": {
            "tags": []
          },
          "execution_count": 55
        }
      ]
    },
    {
      "cell_type": "markdown",
      "metadata": {
        "id": "obc5dQqKAJZv",
        "colab_type": "text"
      },
      "source": [
        "Now let's modify `normal_scatter` to plot the 2D normal curve using the multivariate_normal from scipy:"
      ]
    },
    {
      "cell_type": "markdown",
      "metadata": {
        "id": "WZrYteGaEiLp",
        "colab_type": "text"
      },
      "source": [
        "Instead of 2D projections, we could plot the 3D elevations of the grid evaluations of $P(X;\\mu,\\Sigma)$\n",
        "\n"
      ]
    },
    {
      "cell_type": "code",
      "metadata": {
        "id": "ko50gHl1Egoz",
        "colab_type": "code",
        "outputId": "b1c71d51-13ee-418b-9c58-0198f6d49cfe",
        "colab": {
          "base_uri": "https://localhost:8080/",
          "height": 265
        }
      },
      "source": [
        "from mpl_toolkits.mplot3d import Axes3D\n",
        "from matplotlib import cm\n",
        "\n",
        "fig = plt.figure()\n",
        "ax = fig.gca(projection='3d')\n",
        "ax.plot_surface(x, y, z, rstride=3, cstride=3, linewidth=1, antialiased=True,\n",
        "                cmap=cm.viridis)"
      ],
      "execution_count": 0,
      "outputs": [
        {
          "output_type": "execute_result",
          "data": {
            "text/plain": [
              "<mpl_toolkits.mplot3d.art3d.Poly3DCollection at 0x7ffae9341518>"
            ]
          },
          "metadata": {
            "tags": []
          },
          "execution_count": 56
        },
        {
          "output_type": "display_data",
          "data": {
            "image/png": "[encoded data removed]",
            "text/plain": [
              "<Figure size 432x288 with 1 Axes>"
            ]
          },
          "metadata": {
            "tags": []
          }
        }
      ]
    },
    {
      "cell_type": "code",
      "metadata": {
        "id": "T-532Wmq63xo",
        "colab_type": "code",
        "colab": {}
      },
      "source": [
        "def normal_scatter(mean, cov):\n",
        "  \n",
        "  size = 100\n",
        "  sigma_x = cov[0,0]\n",
        "  sigma_y = cov[1,1]\n",
        "  mu_x = mean[0]\n",
        "  mu_y = mean[1]\n",
        "  rho = cov[0,1]/(sigma_x*sigma_y)\n",
        "\n",
        "  x, y = np.random.multivariate_normal(mean, cov, size).T\n",
        "\n",
        "  plt.plot(x, y, 'x')  \n",
        "\n",
        "  '''\n",
        "  x = np.linspace(mu_x-3*sigma_x, mu_x+3*sigma_x, size)\n",
        "  y = np.linspace(mu_y-3*sigma_y, mu_y+3*sigma_y, size)\n",
        "\n",
        "  x, y = np.meshgrid(x, y)\n",
        "  '''\n",
        "\n",
        "  x,y = np.mgrid[mu_x-3*sigma_x:mu_x+3*sigma_x:1/size, mu_y-3*sigma_y:mu_y+3*sigma_y:1/size]\n",
        "  grid = np.empty(x.shape + (2,))\n",
        "  grid[:, :, 0] = x; grid[:, :, 1] = y\n",
        "  \n",
        "\n",
        "  #z = 1/(2*np.pi*sigma_x*sigma_y) * np.exp(-1/(1-rho**2)*((x-mu_x)**2/(sigma_x**2) + (y-mu_y)**2/(sigma_y**2)-  2*rho*(x-mu_x)/sigma_x*(y-mu_y)/sigma_y))\n",
        "  z = multivariate_normal.pdf(grid, mean, cov)\n",
        "\n",
        "  #plt.contourf(x, y, z, cmap='Blues', levels=1)\n",
        "  #plt.contourf(x, y, z, cmap='Blues', levels=2)\n",
        "  plt.contourf(x, y, z, cmap='Blues', levels=3)\n",
        "  #plt.contourf(x, y, z, cmap='Blues', levels=4)\n",
        "  #plt.contourf(x, y, z, cmap='Blues')\n",
        "\n",
        "  plt.colorbar()\n",
        "  plt.grid()\n",
        "  plt.xlim(mu_x-3*sigma_x, mu_x+3*sigma_x)\n",
        "  plt.ylim(mu_y-3*sigma_y, mu_y+3*sigma_y)\n",
        "  plt.axhline(y=0, color='k')\n",
        "  plt.axvline(x=0, color='k')\n"
      ],
      "execution_count": 0,
      "outputs": []
    },
    {
      "cell_type": "code",
      "metadata": {
        "id": "4_sdVCvYC8I6",
        "colab_type": "code",
        "outputId": "30727265-b794-41fc-b839-d8ed88f3a31d",
        "colab": {
          "base_uri": "https://localhost:8080/",
          "height": 269
        }
      },
      "source": [
        "\n",
        "mean = np.array([0, 0])\n",
        "cov = np.array([[2, 1], [1, 1]])\n",
        "normal_scatter(mean,cov)"
      ],
      "execution_count": 0,
      "outputs": [
        {
          "output_type": "display_data",
          "data": {
            "image/png": "[encoded data removed]",
            "text/plain": [
              "<Figure size 432x288 with 2 Axes>"
            ]
          },
          "metadata": {
            "tags": []
          }
        }
      ]
    },
    {
      "cell_type": "markdown",
      "metadata": {
        "id": "elXf0WtFE4zV",
        "colab_type": "text"
      },
      "source": [
        "# Covariance matrix\n",
        "\n",
        "__$\\Sigma$ must always be square and symmetric__\n",
        "\n",
        "If $\\sigma_{xy} = \\sigma_{yx} = 0$ then we can sample every dimension independetly as we did above.\n",
        "\n"
      ]
    },
    {
      "cell_type": "code",
      "metadata": {
        "id": "ftbSREvYFGI3",
        "colab_type": "code",
        "outputId": "2c6bbb46-e347-4ee7-c80b-91d5d86d51e7",
        "colab": {
          "base_uri": "https://localhost:8080/",
          "height": 786
        }
      },
      "source": [
        "import numpy as np\n",
        "import matplotlib.pyplot as plt\n",
        "size = 1000\n",
        "\n",
        "sigma_x = 2.\n",
        "sigma_y = 6.\n",
        "\n",
        "mu_x = 5\n",
        "mu_y = 5\n",
        "\n",
        "plt.xlim(-20,20)\n",
        "plt.ylim(-20,20)\n",
        "\n",
        "x = np.random.normal(mu_x, sigma_x, 1000)\n",
        "\n",
        "y = np.random.normal(mu_y, sigma_y, 1000)\n",
        "\n",
        "plt.scatter(x,y)\n",
        "plt.grid()\n",
        "plt.axhline(y=0, color='k')\n",
        "plt.axvline(x=0, color='k')\n",
        "plt.show()\n",
        "\n",
        "\n",
        "x = np.linspace(-20, 20, size)\n",
        "y = np.linspace(-20, 20, size)\n",
        "\n",
        "x, y = np.meshgrid(x, y)\n",
        "z = (1/(2*np.pi*sigma_x*sigma_y) * np.exp(-((x-mu_x)**2/(2*sigma_x**2)\n",
        "     + (y-mu_y)**2/(2*sigma_y**2))))\n",
        "print(z.shape)\n",
        "plt.xlim(-20,20)\n",
        "plt.ylim(-20,20)\n",
        "plt.contourf(x, y, z, cmap='Blues')\n",
        "plt.colorbar()\n",
        "plt.grid()\n",
        "plt.axhline(y=0, color='k')\n",
        "plt.axvline(x=0, color='k')\n",
        "plt.show()\n",
        "\n",
        "from mpl_toolkits.mplot3d import Axes3D\n",
        "from matplotlib import cm\n",
        "\n",
        "fig = plt.figure()\n",
        "ax = fig.gca(projection='3d')\n",
        "ax.plot_surface(x, y, z, rstride=3, cstride=3, linewidth=1, antialiased=True,\n",
        "                cmap=cm.viridis)\n"
      ],
      "execution_count": 0,
      "outputs": [
        {
          "output_type": "display_data",
          "data": {
            "image/png": "[encoded data removed]",
            "text/plain": [
              "<Figure size 432x288 with 1 Axes>"
            ]
          },
          "metadata": {
            "tags": []
          }
        },
        {
          "output_type": "stream",
          "text": [
            "(1000, 1000)\n"
          ],
          "name": "stdout"
        },
        {
          "output_type": "display_data",
          "data": {
            "image/png": "[encoded data removed]",
            "text/plain": [
              "<Figure size 432x288 with 2 Axes>"
            ]
          },
          "metadata": {
            "tags": []
          }
        },
        {
          "output_type": "execute_result",
          "data": {
            "text/plain": [
              "<mpl_toolkits.mplot3d.art3d.Poly3DCollection at 0x7ffae99dbac8>"
            ]
          },
          "metadata": {
            "tags": []
          },
          "execution_count": 59
        },
        {
          "output_type": "display_data",
          "data": {
            "image/png": "[encoded data removed]",
            "text/plain": [
              "<Figure size 432x288 with 1 Axes>"
            ]
          },
          "metadata": {
            "tags": []
          }
        }
      ]
    },
    {
      "cell_type": "markdown",
      "metadata": {
        "id": "XTHq5VdUFGWi",
        "colab_type": "text"
      },
      "source": [
        "But if we have inter-dims interaction, $\\sigma_{xy}$ and $\\sigma_{yx}$, then we must use the multivariate normal distribution general formula above for sampling.\n",
        "\n",
        "In numpy, we use the multivariate_normal function as above"
      ]
    }
  ]
}